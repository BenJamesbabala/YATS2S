{
 "cells": [
  {
   "cell_type": "code",
   "execution_count": 1,
   "metadata": {
    "collapsed": true
   },
   "outputs": [],
   "source": [
    "import os"
   ]
  },
  {
   "cell_type": "code",
   "execution_count": 2,
   "metadata": {
    "collapsed": false
   },
   "outputs": [],
   "source": [
    "os.environ[\"CUDA_VISIBLE_DEVICES\"] = \"0\""
   ]
  },
  {
   "cell_type": "code",
   "execution_count": 3,
   "metadata": {
    "collapsed": true
   },
   "outputs": [],
   "source": [
    "import tensorflow as tf\n",
    "import numpy as np\n",
    "import pickle\n",
    "import json\n",
    "from sklearn.model_selection import train_test_split\n",
    "from tensorflow.contrib import layers\n",
    "from tensorflow.contrib import rnn\n",
    "from tensorflow.contrib import seq2seq\n",
    "from seq2seq.rnn_seq2seq import DynamicSeq2Seq\n",
    "from seq2seq.batch_utils import time_major_batch"
   ]
  },
  {
   "cell_type": "code",
   "execution_count": 4,
   "metadata": {
    "collapsed": true
   },
   "outputs": [],
   "source": [
    "with open(\"data/pph1_enc.pkl\", \"rb\") as fout:\n",
    "    pph1_enc = pickle.load(fout)\n",
    "with open(\"data/pph2_enc.pkl\", \"rb\") as fout:\n",
    "    pph2_enc = pickle.load(fout)\n",
    "with open(\"data/pph_vocab.txt\") as fin:\n",
    "    vocab = fin.readlines()\n",
    "with open(\"data/token2id.json\") as fout:\n",
    "    token2id = json.load(fout)\n",
    "with open(\"data/id2token.json\") as fout:\n",
    "    id2token = json.load(fout)\n",
    "    id2token = {int(key):value for key, value in id2token.items()}\n",
    "\n",
    "unk_id = 2\n",
    "unk = \" \"\n",
    "encode = lambda line: list(map(lambda t: token2id.get(t, unk_id), line))\n",
    "decode = lambda line: \"\".join(list(map(lambda i: id2token.get(i, unk), line)))\n",
    "\n",
    "indices = np.arange(len(pph1_enc))\n",
    "train_ids, val_ids = train_test_split(indices, test_size=0.2, random_state=42)\n",
    "\n",
    "train_input = [pph1_enc[i] for i in train_ids]\n",
    "train_target = [pph2_enc[i] for i in train_ids]\n",
    "train_data = list(zip(train_input, train_target))\n",
    "\n",
    "val_input = [pph1_enc[i] for i in val_ids]\n",
    "val_target = [pph2_enc[i] for i in val_ids]\n",
    "val_data = list(zip(val_input, val_target))\n",
    "\n",
    "vocab_size = len(vocab) + 3\n",
    "emb_size = 64\n",
    "\n",
    "encoder_args = {\n",
    "    \"cell\": rnn.LSTMCell(256),\n",
    "    \"bidirectional\": True,\n",
    "}\n",
    "\n",
    "decoder_args = {\n",
    "    \"cell\": rnn.LSTMCell(512),\n",
    "    \"attention\": True,\n",
    "}\n",
    "\n",
    "model = DynamicSeq2Seq(\n",
    "    vocab_size, emb_size, encoder_args, decoder_args)\n",
    "\n",
    "gpu_option = 0.5\n",
    "gpu_options = tf.GPUOptions(per_process_gpu_memory_fraction=gpu_option)"
   ]
  },
  {
   "cell_type": "code",
   "execution_count": 5,
   "metadata": {
    "collapsed": true
   },
   "outputs": [],
   "source": [
    "def inference(query):\n",
    "    try:\n",
    "        assert isinstance(query, str)\n",
    "        query = encode(query)\n",
    "    except:\n",
    "        assert isinstance(query, list)\n",
    "        assert isinstance(query[0], int)\n",
    "    query_batch, query_batch_len = time_major_batch([query])\n",
    "    predicted = sess.run(\n",
    "        model.decoder.inference_prediction, \n",
    "        feed_dict={\n",
    "            model.encoder.inputs: query_batch, \n",
    "            model.encoder.inputs_length: query_batch_len}).reshape(-1)\n",
    "    predicted_line = decode(predicted)\n",
    "    return predicted_line"
   ]
  },
  {
   "cell_type": "code",
   "execution_count": 6,
   "metadata": {
    "collapsed": true
   },
   "outputs": [],
   "source": [
    "sess = tf.InteractiveSession(config=tf.ConfigProto(gpu_options=gpu_options))"
   ]
  },
  {
   "cell_type": "code",
   "execution_count": 7,
   "metadata": {
    "collapsed": true
   },
   "outputs": [],
   "source": [
    "saver = tf.train.Saver()"
   ]
  },
  {
   "cell_type": "code",
   "execution_count": 8,
   "metadata": {
    "collapsed": false
   },
   "outputs": [],
   "source": [
    "saver.restore(sess, \"./long_run_170421/model/10/model.cpkl\")"
   ]
  },
  {
   "cell_type": "code",
   "execution_count": 9,
   "metadata": {
    "collapsed": false
   },
   "outputs": [
    {
     "name": "stdout",
     "output_type": "stream",
     "text": [
      "What does a wife expects from his husband? \n",
      "What does a wife expect from his husband?  \n",
      "What are the things a wife expects from a husband? \n",
      "--------------------------------------------------------------------------------\n",
      "What will happen to stock market when Trump becomes a president? \n",
      "What will happen to the stock market when Trump is president?  \n",
      "What will happen to the stock market if Trump gets elected? \n",
      "--------------------------------------------------------------------------------\n",
      "How cold can the Gobi Desert get, and how do its average temperatures compare to the ones in the Chihuahuan Desert? \n",
      "How cold can the Gobi Desert get, and how do its average temperatures compare to the ones in the Syrian Desert?  \n",
      "How cold can the Gobi Desert get, and how do its average temperatures compare to the ones in the Sonoran Desert? \n",
      "--------------------------------------------------------------------------------\n",
      "What is the difference between a shape and the forms in art? \n",
      "What is the difference between a shape and art?  \n",
      "What is the difference between shape and form in art? \n",
      "--------------------------------------------------------------------------------\n",
      "What on earth is in Game of thrones why is it so infamous? \n",
      "What is the one thing that Game of thrones would infamous?  \n",
      "Why is Game of Thrones so successful? \n",
      "--------------------------------------------------------------------------------\n",
      "Why do companies buy companies? \n",
      "Why do companies buy companies?  \n",
      "Why are the huge companies buying other companies? \n",
      "--------------------------------------------------------------------------------\n",
      "Is Donald Trump purposefully tanking the election? \n",
      "Is Donald Trump a threated the election?  \n",
      "Is Donald Trump a covert operative for the Clintons? \n",
      "--------------------------------------------------------------------------------\n",
      "What are the best gifts for fiance? \n",
      "What are the best gift gift in the world\n",
      "What is the best gift for my fiance? \n",
      "--------------------------------------------------------------------------------\n",
      "How is replacing 1000 rs notes with 2000 rs notes going to make black money hoarding a lot harder? \n",
      "How will the ban of old 500 and 1000 rs notes help in bringing out the black money?  \n",
      "How does banning 500 & 1000 rupee notes solve black money problem? \n",
      "--------------------------------------------------------------------------------\n",
      "What are some of the best ways to thaw lobster tails? \n",
      "What is the best way to thaw lobster tails?  \n",
      "How do you properly thaw frozen Lobster tails? \n",
      "--------------------------------------------------------------------------------\n"
     ]
    }
   ],
   "source": [
    "for i in np.random.randint(len(val_data), size=10):\n",
    "    query, target = val_data[i]\n",
    "    try:\n",
    "        print(\"\\n\".join((decode(query), inference(query), decode(target))))\n",
    "    except:\n",
    "        print(\"\\n\".join((query, inference(query))))\n",
    "    print(\"-\"*80)"
   ]
  },
  {
   "cell_type": "code",
   "execution_count": 21,
   "metadata": {
    "collapsed": false
   },
   "outputs": [
    {
     "name": "stdout",
     "output_type": "stream",
     "text": [
      "What is the must die before windo\n"
     ]
    }
   ],
   "source": [
    "query = \"What must die before windows?\"\n",
    "print(inference(query))"
   ]
  },
  {
   "cell_type": "code",
   "execution_count": 4,
   "metadata": {
    "collapsed": false
   },
   "outputs": [],
   "source": [
    "# from matplotlib.pyplot import imshow, figure\n",
    "# import numpy as np\n",
    "# from PIL import Image\n",
    "\n",
    "# %matplotlib inline\n",
    "# pil_im = Image.open(\"./logs/plotter/unreg_loss.png\", 'r')\n",
    "# figure(figsize = (16,12))\n",
    "# imshow(np.asarray(pil_im), interpolation='nearest', aspect='auto')"
   ]
  },
  {
   "cell_type": "code",
   "execution_count": 5,
   "metadata": {
    "collapsed": true
   },
   "outputs": [],
   "source": [
    "import matplotlib.pyplot as plt\n",
    "from matplotlib.pyplot import imshow, figure\n",
    "%matplotlib inline"
   ]
  },
  {
   "cell_type": "code",
   "execution_count": 6,
   "metadata": {
    "collapsed": true
   },
   "outputs": [],
   "source": [
    "from rstools.visualization.plotter import plot_all_metrics"
   ]
  },
  {
   "cell_type": "code",
   "execution_count": 7,
   "metadata": {
    "collapsed": true
   },
   "outputs": [],
   "source": [
    "import pickle"
   ]
  },
  {
   "cell_type": "code",
   "execution_count": 9,
   "metadata": {
    "collapsed": false
   },
   "outputs": [],
   "source": [
    "with open(\"./long_run_170421/model/10/history.pkl\", \"rb\") as fin:\n",
    "    history = pickle.load(fin)"
   ]
  },
  {
   "cell_type": "code",
   "execution_count": 10,
   "metadata": {
    "collapsed": false
   },
   "outputs": [
    {
     "name": "stderr",
     "output_type": "stream",
     "text": [
      "/home/sergey/anaconda/envs/python3/lib/python3.5/site-packages/matplotlib/font_manager.py:1297: UserWarning: findfont: Font family ['sans-serif'] not found. Falling back to DejaVu Sans\n",
      "  (prop.get_family(), self.defaultFamily[fontext]))\n"
     ]
    },
    {
     "data": {
      "image/png": "[encoded data removed]",
      "text/plain": [
       "<matplotlib.figure.Figure at 0x7fdfc20d0588>"
      ]
     },
     "metadata": {},
     "output_type": "display_data"
    }
   ],
   "source": [
    "plot_all_metrics(history, show=True)"
   ]
  },
  {
   "cell_type": "code",
   "execution_count": null,
   "metadata": {
    "collapsed": true
   },
   "outputs": [],
   "source": []
  }
 ],
 "metadata": {
  "kernelspec": {
   "display_name": "Python 3",
   "language": "python",
   "name": "python3"
  },
  "language_info": {
   "codemirror_mode": {
    "name": "ipython",
    "version": 3
   },
   "file_extension": ".py",
   "mimetype": "text/x-python",
   "name": "python",
   "nbconvert_exporter": "python",
   "pygments_lexer": "ipython3",
   "version": "3.5.2"
  }
 },
 "nbformat": 4,
 "nbformat_minor": 2
}
