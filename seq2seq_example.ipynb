{
 "cells": [
  {
   "cell_type": "code",
   "execution_count": 1,
   "metadata": {
    "collapsed": false
   },
   "outputs": [],
   "source": [
    "import tensorflow as tf\n",
    "import numpy as np"
   ]
  },
  {
   "cell_type": "code",
   "execution_count": 2,
   "metadata": {
    "collapsed": false
   },
   "outputs": [
    {
     "data": {
      "text/plain": [
       "'1.2.0'"
      ]
     },
     "execution_count": 2,
     "metadata": {},
     "output_type": "execute_result"
    }
   ],
   "source": [
    "tf.__version__"
   ]
  },
  {
   "cell_type": "code",
   "execution_count": 3,
   "metadata": {
    "collapsed": false
   },
   "outputs": [],
   "source": [
    "from seq2seq.rnn_seq2seq import create_seq2seq_model, create_seq2seq_experiment_fn"
   ]
  },
  {
   "cell_type": "code",
   "execution_count": 4,
   "metadata": {
    "collapsed": true
   },
   "outputs": [],
   "source": [
    "tf.reset_default_graph()"
   ]
  },
  {
   "cell_type": "code",
   "execution_count": 5,
   "metadata": {
    "collapsed": false
   },
   "outputs": [
    {
     "name": "stdout",
     "output_type": "stream",
     "text": [
      "rm: cannot remove './logs': No such file or directory\r\n"
     ]
    }
   ],
   "source": [
    "! rm -r ./logs"
   ]
  },
  {
   "cell_type": "code",
   "execution_count": 6,
   "metadata": {
    "collapsed": true
   },
   "outputs": [],
   "source": [
    "cell_num = 1\n",
    "lm_regularization = True\n",
    "\n",
    "cell = \"LSTMCell\"\n",
    "num_layers = 2\n",
    "num_units = 16\n",
    "bidirectional = False\n",
    "attention = True\n",
    "residual_connections = True\n",
    "residual_dense = True\n",
    "\n",
    "vocab_size = 10\n",
    "emb_size = 5\n",
    "\n",
    "training_mode = \"scheduled_sampling_embedding\"\n",
    "scheduled_sampling_probability = 0.5\n",
    "\n",
    "inference_mode = \"beam\"\n",
    "beam_width = 3"
   ]
  },
  {
   "cell_type": "code",
   "execution_count": 7,
   "metadata": {
    "collapsed": true
   },
   "outputs": [],
   "source": [
    "def random_sequences(length_from, length_to,\n",
    "                     vocab_lower, vocab_upper,\n",
    "                     batch_size):\n",
    "    \"\"\" Generates batches of random integer sequences,\n",
    "        sequence length in [length_from, length_to],\n",
    "        vocabulary in [vocab_lower, vocab_upper]\n",
    "    \"\"\"\n",
    "    if length_from > length_to:\n",
    "        raise ValueError('length_from > length_to')\n",
    "\n",
    "    def random_length():\n",
    "        if length_from == length_to:\n",
    "            return length_from\n",
    "        return np.random.randint(length_from, length_to + 1)\n",
    "    \n",
    "    while True:\n",
    "        yield [\n",
    "            np.random.randint(low=vocab_lower,\n",
    "                              high=vocab_upper,\n",
    "                              size=random_length()).tolist()\n",
    "            for _ in range(batch_size)]"
   ]
  },
  {
   "cell_type": "code",
   "execution_count": 8,
   "metadata": {
    "collapsed": true
   },
   "outputs": [],
   "source": [
    "# from tensorflow.contrib.learn.python.learn.learn_io.generator_io import generator_input_fn\n",
    "from seq2seq.input.generator_io import generator_input_fn"
   ]
  },
  {
   "cell_type": "code",
   "execution_count": 9,
   "metadata": {
    "collapsed": true
   },
   "outputs": [],
   "source": [
    "def data_generator_py():\n",
    "    def generator():\n",
    "        data_gen = random_sequences(2, 9, 2, 9, 1)\n",
    "        for _ in range(1000):\n",
    "            data = next(data_gen)\n",
    "            \n",
    "            data = np.array(data[0], dtype=np.int32)\n",
    "            data_len = len(data)\n",
    "            data_len = np.array(data_len, dtype=np.int32)\n",
    "\n",
    "            yield {\n",
    "                \"inputs\": data,\n",
    "                \"inputs_length\": data_len,\n",
    "                \"targets\": data,\n",
    "                \"targets_length\": data_len\n",
    "            }\n",
    "    return generator"
   ]
  },
  {
   "cell_type": "code",
   "execution_count": 10,
   "metadata": {
    "collapsed": false
   },
   "outputs": [],
   "source": [
    "dg_train_input_fn = generator_input_fn(\n",
    "    x=data_generator_py(), \n",
    "    target_key=[\"targets\", \"targets_length\"], \n",
    "    batch_size=16, shuffle=False, num_epochs=None, \n",
    "    queue_capacity=128, num_threads=2, \n",
    "    pad_data=True)\n",
    "dg_test_input_fn = generator_input_fn(\n",
    "    x=data_generator_py(), \n",
    "    target_key=[\"targets\", \"targets_length\"], \n",
    "    batch_size=16, shuffle=False, num_epochs=None, \n",
    "    queue_capacity=128, num_threads=1, \n",
    "    pad_data=True)"
   ]
  },
  {
   "cell_type": "code",
   "execution_count": 11,
   "metadata": {
    "collapsed": true
   },
   "outputs": [],
   "source": [
    "experiment_fn = create_seq2seq_experiment_fn(\n",
    "    dg_train_input_fn, dg_test_input_fn, \n",
    "    train_steps=int(1e3), eval_steps=int(1e2), min_eval_frequency=int(1e2))"
   ]
  },
  {
   "cell_type": "code",
   "execution_count": 12,
   "metadata": {
    "collapsed": true
   },
   "outputs": [],
   "source": [
    "gpu_option = 0.5  # Yeap, Estimator can use memory limitations\n",
    "gpu_options = tf.GPUOptions(per_process_gpu_memory_fraction=gpu_option)\n",
    "\n",
    "run_config = tf.contrib.learn.RunConfig(\n",
    "    session_config=tf.ConfigProto(gpu_options=gpu_options),\n",
    "    model_dir=\"./logs\")\n",
    "\n",
    "hparams = tf.contrib.training.HParams(\n",
    "    cell_num=cell_num,\n",
    "    lm_regularization=lm_regularization,\n",
    "    vocab_size=vocab_size, embedding_size=emb_size,\n",
    "    cell=cell, num_layers=num_layers, num_units=num_units,\n",
    "    bidirectional=bidirectional, attention=attention,\n",
    "    residual_connections=residual_connections, \n",
    "    residual_dense=residual_dense,\n",
    "    training_mode=training_mode,\n",
    "    learning_rate=1e-4,\n",
    "    lr_decay_steps=100000,\n",
    "    lr_decay_koef=0.99,\n",
    "    gradient_clip=10.0,\n",
    "    scheduled_sampling_probability=scheduled_sampling_probability,\n",
    "    inference_mode=inference_mode,\n",
    "    beam_width=beam_width)"
   ]
  },
  {
   "cell_type": "code",
   "execution_count": 13,
   "metadata": {
    "collapsed": false,
    "scrolled": false
   },
   "outputs": [
    {
     "name": "stdout",
     "output_type": "stream",
     "text": [
      "> /home/scitator/Documents/git/TF-seq2seq/seq2seq/rnn_seq2seq.py(86)__init__()\n",
      "-> if mode == tf.estimator.ModeKeys.TRAIN:\n",
      "(Pdb) l\n",
      " 81  \t            encoder_inputs_length=self.encoder.inputs_length,\n",
      " 82  \t            mode=mode,\n",
      " 83  \t            **decoder_args)\n",
      " 84  \t        import pdb; pdb.set_trace()\n",
      " 85  \t\n",
      " 86  ->\t        if mode == tf.estimator.ModeKeys.TRAIN:\n",
      " 87  \t            build_model_optimization(\n",
      " 88  \t                self.encoder, encoder_optimization_args, self.decoder.loss + self.encoder.loss)\n",
      " 89  \t            build_model_optimization(\n",
      " 90  \t                self.decoder, decoder_optimization_args)\n",
      " 91  \t            if same_embeddings:\n",
      "(Pdb) from pprint import pprint; pprint([(v.name, v.get_shape()) for v in tf.trainable_variables()])\n",
      "[('embeddings/embeddings/embedding_matrix:0',\n",
      "  TensorShape([Dimension(10), Dimension(5)])),\n",
      " ('DynamicRnnEncoder/Encoder/rnn/extended_multi_rnn_cell/input_transform/weights:0',\n",
      "  TensorShape([Dimension(5), Dimension(16)])),\n",
      " ('DynamicRnnEncoder/Encoder/rnn/extended_multi_rnn_cell/input_transform/biases:0',\n",
      "  TensorShape([Dimension(16)])),\n",
      " ('DynamicRnnEncoder/Encoder/rnn/extended_multi_rnn_cell/cell_0/lstm_cell/kernel:0',\n",
      "  TensorShape([Dimension(32), Dimension(64)])),\n",
      " ('DynamicRnnEncoder/Encoder/rnn/extended_multi_rnn_cell/cell_0/lstm_cell/bias:0',\n",
      "  TensorShape([Dimension(64)])),\n",
      " ('DynamicRnnEncoder/Encoder/rnn/extended_multi_rnn_cell/cell_1/lstm_cell/kernel:0',\n",
      "  TensorShape([Dimension(32), Dimension(64)])),\n",
      " ('DynamicRnnEncoder/Encoder/rnn/extended_multi_rnn_cell/cell_1/lstm_cell/bias:0',\n",
      "  TensorShape([Dimension(64)])),\n",
      " ('DynamicRnnEncoder/Decoder/decoder/extended_multi_rnn_cell/input_transform/weights:0',\n",
      "  TensorShape([Dimension(5), Dimension(16)])),\n",
      " ('DynamicRnnEncoder/Decoder/decoder/extended_multi_rnn_cell/input_transform/biases:0',\n",
      "  TensorShape([Dimension(16)])),\n",
      " ('DynamicRnnEncoder/Decoder/decoder/output_layer/kernel:0',\n",
      "  TensorShape([Dimension(16), Dimension(10)])),\n",
      " ('DynamicRnnEncoder/Decoder/decoder/output_layer/bias:0',\n",
      "  TensorShape([Dimension(10)])),\n",
      " ('DynamicRnnDecoder/Decoder/memory_layer/kernel:0',\n",
      "  TensorShape([Dimension(16), Dimension(16)])),\n",
      " ('DynamicRnnDecoder/Decoder/decoder/attention_wrapper/extended_multi_rnn_cell/input_transform/weights:0',\n",
      "  TensorShape([Dimension(21), Dimension(16)])),\n",
      " ('DynamicRnnDecoder/Decoder/decoder/attention_wrapper/extended_multi_rnn_cell/input_transform/biases:0',\n",
      "  TensorShape([Dimension(16)])),\n",
      " ('DynamicRnnDecoder/Decoder/decoder/attention_wrapper/bahdanau_attention/query_layer/kernel:0',\n",
      "  TensorShape([Dimension(16), Dimension(16)])),\n",
      " ('DynamicRnnDecoder/Decoder/decoder/attention_wrapper/bahdanau_attention/attention_v:0',\n",
      "  TensorShape([Dimension(16)])),\n",
      " ('DynamicRnnDecoder/Decoder/decoder/attention_wrapper/attention_layer/kernel:0',\n",
      "  TensorShape([Dimension(32), Dimension(16)]))]\n",
      "(Pdb) c\n"
     ]
    },
    {
     "name": "stderr",
     "output_type": "stream",
     "text": [
      "/home/scitator/.conda/envs/python3/lib/python3.5/site-packages/tensorflow/python/ops/gradients_impl.py:93: UserWarning: Converting sparse IndexedSlices to a dense Tensor of unknown shape. This may consume a large amount of memory.\n",
      "  \"Converting sparse IndexedSlices to a dense Tensor of unknown shape. \"\n"
     ]
    },
    {
     "name": "stdout",
     "output_type": "stream",
     "text": [
      "> /home/scitator/Documents/git/TF-seq2seq/seq2seq/rnn_seq2seq.py(86)__init__()\n",
      "-> if mode == tf.estimator.ModeKeys.TRAIN:\n",
      "(Pdb) from pprint import pprint; pprint([(v.name, v.get_shape()) for v in tf.trainable_variables()])\n",
      "[('embeddings/embeddings/embedding_matrix:0',\n",
      "  TensorShape([Dimension(10), Dimension(5)])),\n",
      " ('DynamicRnnEncoder/Encoder/rnn/extended_multi_rnn_cell/input_transform/weights:0',\n",
      "  TensorShape([Dimension(5), Dimension(16)])),\n",
      " ('DynamicRnnEncoder/Encoder/rnn/extended_multi_rnn_cell/input_transform/biases:0',\n",
      "  TensorShape([Dimension(16)])),\n",
      " ('DynamicRnnEncoder/Encoder/rnn/extended_multi_rnn_cell/cell_0/lstm_cell/kernel:0',\n",
      "  TensorShape([Dimension(32), Dimension(64)])),\n",
      " ('DynamicRnnEncoder/Encoder/rnn/extended_multi_rnn_cell/cell_0/lstm_cell/bias:0',\n",
      "  TensorShape([Dimension(64)])),\n",
      " ('DynamicRnnEncoder/Encoder/rnn/extended_multi_rnn_cell/cell_1/lstm_cell/kernel:0',\n",
      "  TensorShape([Dimension(32), Dimension(64)])),\n",
      " ('DynamicRnnEncoder/Encoder/rnn/extended_multi_rnn_cell/cell_1/lstm_cell/bias:0',\n",
      "  TensorShape([Dimension(64)])),\n",
      " ('DynamicRnnEncoder/Decoder/decoder/extended_multi_rnn_cell/input_transform/weights:0',\n",
      "  TensorShape([Dimension(5), Dimension(16)])),\n",
      " ('DynamicRnnEncoder/Decoder/decoder/extended_multi_rnn_cell/input_transform/biases:0',\n",
      "  TensorShape([Dimension(16)])),\n",
      " ('DynamicRnnEncoder/Decoder/decoder/output_layer/kernel:0',\n",
      "  TensorShape([Dimension(16), Dimension(10)])),\n",
      " ('DynamicRnnEncoder/Decoder/decoder/output_layer/bias:0',\n",
      "  TensorShape([Dimension(10)])),\n",
      " ('DynamicRnnDecoder/Decoder/memory_layer/kernel:0',\n",
      "  TensorShape([Dimension(16), Dimension(16)])),\n",
      " ('DynamicRnnDecoder/Decoder/decoder/attention_wrapper/extended_multi_rnn_cell/input_transform/weights:0',\n",
      "  TensorShape([Dimension(21), Dimension(16)])),\n",
      " ('DynamicRnnDecoder/Decoder/decoder/attention_wrapper/extended_multi_rnn_cell/input_transform/biases:0',\n",
      "  TensorShape([Dimension(16)])),\n",
      " ('DynamicRnnDecoder/Decoder/decoder/attention_wrapper/bahdanau_attention/query_layer/kernel:0',\n",
      "  TensorShape([Dimension(16), Dimension(16)])),\n",
      " ('DynamicRnnDecoder/Decoder/decoder/attention_wrapper/bahdanau_attention/attention_v:0',\n",
      "  TensorShape([Dimension(16)])),\n",
      " ('DynamicRnnDecoder/Decoder/decoder/attention_wrapper/attention_layer/kernel:0',\n",
      "  TensorShape([Dimension(32), Dimension(16)]))]\n",
      "(Pdb) c\n",
      "> /home/scitator/Documents/git/TF-seq2seq/seq2seq/rnn_seq2seq.py(86)__init__()\n",
      "-> if mode == tf.estimator.ModeKeys.TRAIN:\n",
      "(Pdb) from pprint import pprint; pprint([(v.name, v.get_shape()) for v in tf.trainable_variables()])\n",
      "[('embeddings/embeddings/embedding_matrix:0',\n",
      "  TensorShape([Dimension(10), Dimension(5)])),\n",
      " ('DynamicRnnEncoder/Encoder/rnn/extended_multi_rnn_cell/input_transform/weights:0',\n",
      "  TensorShape([Dimension(5), Dimension(16)])),\n",
      " ('DynamicRnnEncoder/Encoder/rnn/extended_multi_rnn_cell/input_transform/biases:0',\n",
      "  TensorShape([Dimension(16)])),\n",
      " ('DynamicRnnEncoder/Encoder/rnn/extended_multi_rnn_cell/cell_0/lstm_cell/kernel:0',\n",
      "  TensorShape([Dimension(32), Dimension(64)])),\n",
      " ('DynamicRnnEncoder/Encoder/rnn/extended_multi_rnn_cell/cell_0/lstm_cell/bias:0',\n",
      "  TensorShape([Dimension(64)])),\n",
      " ('DynamicRnnEncoder/Encoder/rnn/extended_multi_rnn_cell/cell_1/lstm_cell/kernel:0',\n",
      "  TensorShape([Dimension(32), Dimension(64)])),\n",
      " ('DynamicRnnEncoder/Encoder/rnn/extended_multi_rnn_cell/cell_1/lstm_cell/bias:0',\n",
      "  TensorShape([Dimension(64)])),\n",
      " ('DynamicRnnEncoder/Decoder/decoder/extended_multi_rnn_cell/input_transform/weights:0',\n",
      "  TensorShape([Dimension(5), Dimension(16)])),\n",
      " ('DynamicRnnEncoder/Decoder/decoder/extended_multi_rnn_cell/input_transform/biases:0',\n",
      "  TensorShape([Dimension(16)])),\n",
      " ('DynamicRnnEncoder/Decoder/decoder/output_layer/kernel:0',\n",
      "  TensorShape([Dimension(16), Dimension(10)])),\n",
      " ('DynamicRnnEncoder/Decoder/decoder/output_layer/bias:0',\n",
      "  TensorShape([Dimension(10)])),\n",
      " ('DynamicRnnDecoder/Decoder/memory_layer/kernel:0',\n",
      "  TensorShape([Dimension(16), Dimension(16)])),\n",
      " ('DynamicRnnDecoder/Decoder/decoder/attention_wrapper/extended_multi_rnn_cell/input_transform/weights:0',\n",
      "  TensorShape([Dimension(21), Dimension(16)])),\n",
      " ('DynamicRnnDecoder/Decoder/decoder/attention_wrapper/extended_multi_rnn_cell/input_transform/biases:0',\n",
      "  TensorShape([Dimension(16)])),\n",
      " ('DynamicRnnDecoder/Decoder/decoder/attention_wrapper/bahdanau_attention/query_layer/kernel:0',\n",
      "  TensorShape([Dimension(16), Dimension(16)])),\n",
      " ('DynamicRnnDecoder/Decoder/decoder/attention_wrapper/bahdanau_attention/attention_v:0',\n",
      "  TensorShape([Dimension(16)])),\n",
      " ('DynamicRnnDecoder/Decoder/decoder/attention_wrapper/attention_layer/kernel:0',\n",
      "  TensorShape([Dimension(32), Dimension(16)]))]\n",
      "(Pdb) c\n"
     ]
    },
    {
     "data": {
      "text/plain": [
       "({'global_step': 1002, 'loss': 2.5092196}, [])"
      ]
     },
     "execution_count": 13,
     "metadata": {},
     "output_type": "execute_result"
    }
   ],
   "source": [
    "tf.logging.set_verbosity(tf.logging.ERROR) # cause we don't want to log anything\n",
    "tf.contrib.learn.learn_runner.run(\n",
    "    experiment_fn=experiment_fn,\n",
    "    run_config=run_config,\n",
    "    schedule=\"train_and_evaluate\",\n",
    "    hparams=hparams)"
   ]
  },
  {
   "cell_type": "code",
   "execution_count": 14,
   "metadata": {
    "collapsed": true
   },
   "outputs": [],
   "source": [
    "dg_pred_input_fn = generator_input_fn(\n",
    "    x=data_generator_py(), \n",
    "    target_key=[\"targets\", \"targets_length\"], \n",
    "    batch_size=1, shuffle=False, num_epochs=None, \n",
    "    queue_capacity=128, num_threads=1, \n",
    "    pad_data=True)"
   ]
  },
  {
   "cell_type": "code",
   "execution_count": 15,
   "metadata": {
    "collapsed": false
   },
   "outputs": [],
   "source": [
    "model = create_seq2seq_model(config=run_config, hparams=hparams)"
   ]
  },
  {
   "cell_type": "code",
   "execution_count": 16,
   "metadata": {
    "collapsed": false
   },
   "outputs": [],
   "source": [
    "predictions = model.predict(dg_pred_input_fn)"
   ]
  },
  {
   "cell_type": "code",
   "execution_count": 17,
   "metadata": {
    "collapsed": false,
    "scrolled": false
   },
   "outputs": [
    {
     "name": "stdout",
     "output_type": "stream",
     "text": [
      "> /home/scitator/Documents/git/TF-seq2seq/seq2seq/rnn_seq2seq.py(86)__init__()\n",
      "-> if mode == tf.estimator.ModeKeys.TRAIN:\n",
      "(Pdb) from pprint import pprint; pprint([(v.name, v.get_shape()) for v in tf.trainable_variables()])\n",
      "[('embeddings/embeddings/embedding_matrix:0',\n",
      "  TensorShape([Dimension(10), Dimension(5)])),\n",
      " ('DynamicRnnEncoder/Encoder/rnn/extended_multi_rnn_cell/input_transform/weights:0',\n",
      "  TensorShape([Dimension(5), Dimension(16)])),\n",
      " ('DynamicRnnEncoder/Encoder/rnn/extended_multi_rnn_cell/input_transform/biases:0',\n",
      "  TensorShape([Dimension(16)])),\n",
      " ('DynamicRnnEncoder/Encoder/rnn/extended_multi_rnn_cell/cell_0/lstm_cell/kernel:0',\n",
      "  TensorShape([Dimension(32), Dimension(64)])),\n",
      " ('DynamicRnnEncoder/Encoder/rnn/extended_multi_rnn_cell/cell_0/lstm_cell/bias:0',\n",
      "  TensorShape([Dimension(64)])),\n",
      " ('DynamicRnnEncoder/Encoder/rnn/extended_multi_rnn_cell/cell_1/lstm_cell/kernel:0',\n",
      "  TensorShape([Dimension(32), Dimension(64)])),\n",
      " ('DynamicRnnEncoder/Encoder/rnn/extended_multi_rnn_cell/cell_1/lstm_cell/bias:0',\n",
      "  TensorShape([Dimension(64)])),\n",
      " ('DynamicRnnDecoder/Decoder/memory_layer/kernel:0',\n",
      "  TensorShape([Dimension(16), Dimension(16)])),\n",
      " ('DynamicRnnDecoder/Decoder/decoder/attention_wrapper/extended_multi_rnn_cell/input_transform/weights:0',\n",
      "  TensorShape([Dimension(21), Dimension(16)])),\n",
      " ('DynamicRnnDecoder/Decoder/decoder/attention_wrapper/extended_multi_rnn_cell/input_transform/biases:0',\n",
      "  TensorShape([Dimension(16)])),\n",
      " ('DynamicRnnDecoder/Decoder/decoder/attention_wrapper/bahdanau_attention/query_layer/kernel:0',\n",
      "  TensorShape([Dimension(16), Dimension(16)])),\n",
      " ('DynamicRnnDecoder/Decoder/decoder/attention_wrapper/bahdanau_attention/attention_v:0',\n",
      "  TensorShape([Dimension(16)])),\n",
      " ('DynamicRnnDecoder/Decoder/decoder/attention_wrapper/attention_layer/kernel:0',\n",
      "  TensorShape([Dimension(32), Dimension(16)])),\n",
      " ('DynamicRnnDecoder/Decoder/decoder/output_layer/kernel:0',\n",
      "  TensorShape([Dimension(16), Dimension(10)])),\n",
      " ('DynamicRnnDecoder/Decoder/decoder/output_layer/bias:0',\n",
      "  TensorShape([Dimension(10)]))]\n",
      "(Pdb) c\n"
     ]
    },
    {
     "ename": "NotFoundError",
     "evalue": "Key DynamicRnnDecoder/Decoder/decoder/output_layer/bias not found in checkpoint\n\t [[Node: save/RestoreV2_5 = RestoreV2[dtypes=[DT_FLOAT], _device=\"/job:localhost/replica:0/task:0/cpu:0\"](_arg_save/Const_0_0, save/RestoreV2_5/tensor_names, save/RestoreV2_5/shape_and_slices)]]\n\nCaused by op 'save/RestoreV2_5', defined at:\n  File \"/home/scitator/.conda/envs/python3/lib/python3.5/runpy.py\", line 184, in _run_module_as_main\n    \"__main__\", mod_spec)\n  File \"/home/scitator/.conda/envs/python3/lib/python3.5/runpy.py\", line 85, in _run_code\n    exec(code, run_globals)\n  File \"/home/scitator/.conda/envs/python3/lib/python3.5/site-packages/ipykernel/__main__.py\", line 3, in <module>\n    app.launch_new_instance()\n  File \"/home/scitator/.conda/envs/python3/lib/python3.5/site-packages/traitlets/config/application.py\", line 658, in launch_instance\n    app.start()\n  File \"/home/scitator/.conda/envs/python3/lib/python3.5/site-packages/ipykernel/kernelapp.py\", line 474, in start\n    ioloop.IOLoop.instance().start()\n  File \"/home/scitator/.conda/envs/python3/lib/python3.5/site-packages/zmq/eventloop/ioloop.py\", line 177, in start\n    super(ZMQIOLoop, self).start()\n  File \"/home/scitator/.conda/envs/python3/lib/python3.5/site-packages/tornado/ioloop.py\", line 887, in start\n    handler_func(fd_obj, events)\n  File \"/home/scitator/.conda/envs/python3/lib/python3.5/site-packages/tornado/stack_context.py\", line 275, in null_wrapper\n    return fn(*args, **kwargs)\n  File \"/home/scitator/.conda/envs/python3/lib/python3.5/site-packages/zmq/eventloop/zmqstream.py\", line 440, in _handle_events\n    self._handle_recv()\n  File \"/home/scitator/.conda/envs/python3/lib/python3.5/site-packages/zmq/eventloop/zmqstream.py\", line 472, in _handle_recv\n    self._run_callback(callback, msg)\n  File \"/home/scitator/.conda/envs/python3/lib/python3.5/site-packages/zmq/eventloop/zmqstream.py\", line 414, in _run_callback\n    callback(*args, **kwargs)\n  File \"/home/scitator/.conda/envs/python3/lib/python3.5/site-packages/tornado/stack_context.py\", line 275, in null_wrapper\n    return fn(*args, **kwargs)\n  File \"/home/scitator/.conda/envs/python3/lib/python3.5/site-packages/ipykernel/kernelbase.py\", line 276, in dispatcher\n    return self.dispatch_shell(stream, msg)\n  File \"/home/scitator/.conda/envs/python3/lib/python3.5/site-packages/ipykernel/kernelbase.py\", line 228, in dispatch_shell\n    handler(stream, idents, msg)\n  File \"/home/scitator/.conda/envs/python3/lib/python3.5/site-packages/ipykernel/kernelbase.py\", line 390, in execute_request\n    user_expressions, allow_stdin)\n  File \"/home/scitator/.conda/envs/python3/lib/python3.5/site-packages/ipykernel/ipkernel.py\", line 196, in do_execute\n    res = shell.run_cell(code, store_history=store_history, silent=silent)\n  File \"/home/scitator/.conda/envs/python3/lib/python3.5/site-packages/ipykernel/zmqshell.py\", line 501, in run_cell\n    return super(ZMQInteractiveShell, self).run_cell(*args, **kwargs)\n  File \"/home/scitator/.conda/envs/python3/lib/python3.5/site-packages/IPython/core/interactiveshell.py\", line 2717, in run_cell\n    interactivity=interactivity, compiler=compiler, result=result)\n  File \"/home/scitator/.conda/envs/python3/lib/python3.5/site-packages/IPython/core/interactiveshell.py\", line 2821, in run_ast_nodes\n    if self.run_code(code, result):\n  File \"/home/scitator/.conda/envs/python3/lib/python3.5/site-packages/IPython/core/interactiveshell.py\", line 2881, in run_code\n    exec(code_obj, self.user_global_ns, self.user_ns)\n  File \"<ipython-input-17-9d1566d7949a>\", line 1, in <module>\n    pred = next(predictions)\n  File \"/home/scitator/.conda/envs/python3/lib/python3.5/site-packages/tensorflow/python/estimator/estimator.py\", line 346, in predict\n    hooks=hooks) as mon_sess:\n  File \"/home/scitator/.conda/envs/python3/lib/python3.5/site-packages/tensorflow/python/training/monitored_session.py\", line 648, in __init__\n    stop_grace_period_secs=stop_grace_period_secs)\n  File \"/home/scitator/.conda/envs/python3/lib/python3.5/site-packages/tensorflow/python/training/monitored_session.py\", line 477, in __init__\n    self._sess = _RecoverableSession(self._coordinated_creator)\n  File \"/home/scitator/.conda/envs/python3/lib/python3.5/site-packages/tensorflow/python/training/monitored_session.py\", line 822, in __init__\n    _WrappedSession.__init__(self, self._create_session())\n  File \"/home/scitator/.conda/envs/python3/lib/python3.5/site-packages/tensorflow/python/training/monitored_session.py\", line 827, in _create_session\n    return self._sess_creator.create_session()\n  File \"/home/scitator/.conda/envs/python3/lib/python3.5/site-packages/tensorflow/python/training/monitored_session.py\", line 538, in create_session\n    self.tf_sess = self._session_creator.create_session()\n  File \"/home/scitator/.conda/envs/python3/lib/python3.5/site-packages/tensorflow/python/training/monitored_session.py\", line 403, in create_session\n    self._scaffold.finalize()\n  File \"/home/scitator/.conda/envs/python3/lib/python3.5/site-packages/tensorflow/python/training/monitored_session.py\", line 203, in finalize\n    self._saver = training_saver._get_saver_or_default()  # pylint: disable=protected-access\n  File \"/home/scitator/.conda/envs/python3/lib/python3.5/site-packages/tensorflow/python/training/saver.py\", line 736, in _get_saver_or_default\n    saver = Saver(sharded=True, allow_empty=True)\n  File \"/home/scitator/.conda/envs/python3/lib/python3.5/site-packages/tensorflow/python/training/saver.py\", line 1139, in __init__\n    self.build()\n  File \"/home/scitator/.conda/envs/python3/lib/python3.5/site-packages/tensorflow/python/training/saver.py\", line 1170, in build\n    restore_sequentially=self._restore_sequentially)\n  File \"/home/scitator/.conda/envs/python3/lib/python3.5/site-packages/tensorflow/python/training/saver.py\", line 687, in build\n    restore_sequentially, reshape)\n  File \"/home/scitator/.conda/envs/python3/lib/python3.5/site-packages/tensorflow/python/training/saver.py\", line 450, in _AddShardedRestoreOps\n    name=\"restore_shard\"))\n  File \"/home/scitator/.conda/envs/python3/lib/python3.5/site-packages/tensorflow/python/training/saver.py\", line 407, in _AddRestoreOps\n    tensors = self.restore_op(filename_tensor, saveable, preferred_shard)\n  File \"/home/scitator/.conda/envs/python3/lib/python3.5/site-packages/tensorflow/python/training/saver.py\", line 247, in restore_op\n    [spec.tensor.dtype])[0])\n  File \"/home/scitator/.conda/envs/python3/lib/python3.5/site-packages/tensorflow/python/ops/gen_io_ops.py\", line 640, in restore_v2\n    dtypes=dtypes, name=name)\n  File \"/home/scitator/.conda/envs/python3/lib/python3.5/site-packages/tensorflow/python/framework/op_def_library.py\", line 767, in apply_op\n    op_def=op_def)\n  File \"/home/scitator/.conda/envs/python3/lib/python3.5/site-packages/tensorflow/python/framework/ops.py\", line 2506, in create_op\n    original_op=self._default_original_op, op_def=op_def)\n  File \"/home/scitator/.conda/envs/python3/lib/python3.5/site-packages/tensorflow/python/framework/ops.py\", line 1269, in __init__\n    self._traceback = _extract_stack()\n\nNotFoundError (see above for traceback): Key DynamicRnnDecoder/Decoder/decoder/output_layer/bias not found in checkpoint\n\t [[Node: save/RestoreV2_5 = RestoreV2[dtypes=[DT_FLOAT], _device=\"/job:localhost/replica:0/task:0/cpu:0\"](_arg_save/Const_0_0, save/RestoreV2_5/tensor_names, save/RestoreV2_5/shape_and_slices)]]\n",
     "output_type": "error",
     "traceback": [
      "\u001b[0;31m---------------------------------------------------------------------------\u001b[0m",
      "\u001b[0;31mNotFoundError\u001b[0m                             Traceback (most recent call last)",
      "\u001b[0;32m/home/scitator/.conda/envs/python3/lib/python3.5/site-packages/tensorflow/python/client/session.py\u001b[0m in \u001b[0;36m_do_call\u001b[0;34m(self, fn, *args)\u001b[0m\n\u001b[1;32m   1138\u001b[0m     \u001b[0;32mtry\u001b[0m\u001b[0;34m:\u001b[0m\u001b[0;34m\u001b[0m\u001b[0m\n\u001b[0;32m-> 1139\u001b[0;31m       \u001b[0;32mreturn\u001b[0m \u001b[0mfn\u001b[0m\u001b[0;34m(\u001b[0m\u001b[0;34m*\u001b[0m\u001b[0margs\u001b[0m\u001b[0;34m)\u001b[0m\u001b[0;34m\u001b[0m\u001b[0m\n\u001b[0m\u001b[1;32m   1140\u001b[0m     \u001b[0;32mexcept\u001b[0m \u001b[0merrors\u001b[0m\u001b[0;34m.\u001b[0m\u001b[0mOpError\u001b[0m \u001b[0;32mas\u001b[0m \u001b[0me\u001b[0m\u001b[0;34m:\u001b[0m\u001b[0;34m\u001b[0m\u001b[0m\n",
      "\u001b[0;32m/home/scitator/.conda/envs/python3/lib/python3.5/site-packages/tensorflow/python/client/session.py\u001b[0m in \u001b[0;36m_run_fn\u001b[0;34m(session, feed_dict, fetch_list, target_list, options, run_metadata)\u001b[0m\n\u001b[1;32m   1120\u001b[0m                                  \u001b[0mfeed_dict\u001b[0m\u001b[0;34m,\u001b[0m \u001b[0mfetch_list\u001b[0m\u001b[0;34m,\u001b[0m \u001b[0mtarget_list\u001b[0m\u001b[0;34m,\u001b[0m\u001b[0;34m\u001b[0m\u001b[0m\n\u001b[0;32m-> 1121\u001b[0;31m                                  status, run_metadata)\n\u001b[0m\u001b[1;32m   1122\u001b[0m \u001b[0;34m\u001b[0m\u001b[0m\n",
      "\u001b[0;32m/home/scitator/.conda/envs/python3/lib/python3.5/contextlib.py\u001b[0m in \u001b[0;36m__exit__\u001b[0;34m(self, type, value, traceback)\u001b[0m\n\u001b[1;32m     65\u001b[0m             \u001b[0;32mtry\u001b[0m\u001b[0;34m:\u001b[0m\u001b[0;34m\u001b[0m\u001b[0m\n\u001b[0;32m---> 66\u001b[0;31m                 \u001b[0mnext\u001b[0m\u001b[0;34m(\u001b[0m\u001b[0mself\u001b[0m\u001b[0;34m.\u001b[0m\u001b[0mgen\u001b[0m\u001b[0;34m)\u001b[0m\u001b[0;34m\u001b[0m\u001b[0m\n\u001b[0m\u001b[1;32m     67\u001b[0m             \u001b[0;32mexcept\u001b[0m \u001b[0mStopIteration\u001b[0m\u001b[0;34m:\u001b[0m\u001b[0;34m\u001b[0m\u001b[0m\n",
      "\u001b[0;32m/home/scitator/.conda/envs/python3/lib/python3.5/site-packages/tensorflow/python/framework/errors_impl.py\u001b[0m in \u001b[0;36mraise_exception_on_not_ok_status\u001b[0;34m()\u001b[0m\n\u001b[1;32m    465\u001b[0m           \u001b[0mcompat\u001b[0m\u001b[0;34m.\u001b[0m\u001b[0mas_text\u001b[0m\u001b[0;34m(\u001b[0m\u001b[0mpywrap_tensorflow\u001b[0m\u001b[0;34m.\u001b[0m\u001b[0mTF_Message\u001b[0m\u001b[0;34m(\u001b[0m\u001b[0mstatus\u001b[0m\u001b[0;34m)\u001b[0m\u001b[0;34m)\u001b[0m\u001b[0;34m,\u001b[0m\u001b[0;34m\u001b[0m\u001b[0m\n\u001b[0;32m--> 466\u001b[0;31m           pywrap_tensorflow.TF_GetCode(status))\n\u001b[0m\u001b[1;32m    467\u001b[0m   \u001b[0;32mfinally\u001b[0m\u001b[0;34m:\u001b[0m\u001b[0;34m\u001b[0m\u001b[0m\n",
      "\u001b[0;31mNotFoundError\u001b[0m: Key DynamicRnnDecoder/Decoder/decoder/output_layer/bias not found in checkpoint\n\t [[Node: save/RestoreV2_5 = RestoreV2[dtypes=[DT_FLOAT], _device=\"/job:localhost/replica:0/task:0/cpu:0\"](_arg_save/Const_0_0, save/RestoreV2_5/tensor_names, save/RestoreV2_5/shape_and_slices)]]",
      "\nDuring handling of the above exception, another exception occurred:\n",
      "\u001b[0;31mNotFoundError\u001b[0m                             Traceback (most recent call last)",
      "\u001b[0;32m<ipython-input-17-9d1566d7949a>\u001b[0m in \u001b[0;36m<module>\u001b[0;34m()\u001b[0m\n\u001b[0;32m----> 1\u001b[0;31m \u001b[0mpred\u001b[0m \u001b[0;34m=\u001b[0m \u001b[0mnext\u001b[0m\u001b[0;34m(\u001b[0m\u001b[0mpredictions\u001b[0m\u001b[0;34m)\u001b[0m\u001b[0;34m\u001b[0m\u001b[0m\n\u001b[0m",
      "\u001b[0;32m/home/scitator/.conda/envs/python3/lib/python3.5/site-packages/tensorflow/python/estimator/estimator.py\u001b[0m in \u001b[0;36mpredict\u001b[0;34m(self, input_fn, predict_keys, hooks, checkpoint_path)\u001b[0m\n\u001b[1;32m    344\u001b[0m               \u001b[0mscaffold\u001b[0m\u001b[0;34m=\u001b[0m\u001b[0mestimator_spec\u001b[0m\u001b[0;34m.\u001b[0m\u001b[0mscaffold\u001b[0m\u001b[0;34m,\u001b[0m\u001b[0;34m\u001b[0m\u001b[0m\n\u001b[1;32m    345\u001b[0m               config=self._session_config),\n\u001b[0;32m--> 346\u001b[0;31m           hooks=hooks) as mon_sess:\n\u001b[0m\u001b[1;32m    347\u001b[0m         \u001b[0;32mwhile\u001b[0m \u001b[0;32mnot\u001b[0m \u001b[0mmon_sess\u001b[0m\u001b[0;34m.\u001b[0m\u001b[0mshould_stop\u001b[0m\u001b[0;34m(\u001b[0m\u001b[0;34m)\u001b[0m\u001b[0;34m:\u001b[0m\u001b[0;34m\u001b[0m\u001b[0m\n\u001b[1;32m    348\u001b[0m           \u001b[0mpreds_evaluated\u001b[0m \u001b[0;34m=\u001b[0m \u001b[0mmon_sess\u001b[0m\u001b[0;34m.\u001b[0m\u001b[0mrun\u001b[0m\u001b[0;34m(\u001b[0m\u001b[0mpredictions\u001b[0m\u001b[0;34m)\u001b[0m\u001b[0;34m\u001b[0m\u001b[0m\n",
      "\u001b[0;32m/home/scitator/.conda/envs/python3/lib/python3.5/site-packages/tensorflow/python/training/monitored_session.py\u001b[0m in \u001b[0;36m__init__\u001b[0;34m(self, session_creator, hooks, stop_grace_period_secs)\u001b[0m\n\u001b[1;32m    646\u001b[0m     super(MonitoredSession, self).__init__(\n\u001b[1;32m    647\u001b[0m         \u001b[0msession_creator\u001b[0m\u001b[0;34m,\u001b[0m \u001b[0mhooks\u001b[0m\u001b[0;34m,\u001b[0m \u001b[0mshould_recover\u001b[0m\u001b[0;34m=\u001b[0m\u001b[0;32mTrue\u001b[0m\u001b[0;34m,\u001b[0m\u001b[0;34m\u001b[0m\u001b[0m\n\u001b[0;32m--> 648\u001b[0;31m         stop_grace_period_secs=stop_grace_period_secs)\n\u001b[0m\u001b[1;32m    649\u001b[0m \u001b[0;34m\u001b[0m\u001b[0m\n\u001b[1;32m    650\u001b[0m \u001b[0;34m\u001b[0m\u001b[0m\n",
      "\u001b[0;32m/home/scitator/.conda/envs/python3/lib/python3.5/site-packages/tensorflow/python/training/monitored_session.py\u001b[0m in \u001b[0;36m__init__\u001b[0;34m(self, session_creator, hooks, should_recover, stop_grace_period_secs)\u001b[0m\n\u001b[1;32m    475\u001b[0m         stop_grace_period_secs=stop_grace_period_secs)\n\u001b[1;32m    476\u001b[0m     \u001b[0;32mif\u001b[0m \u001b[0mshould_recover\u001b[0m\u001b[0;34m:\u001b[0m\u001b[0;34m\u001b[0m\u001b[0m\n\u001b[0;32m--> 477\u001b[0;31m       \u001b[0mself\u001b[0m\u001b[0;34m.\u001b[0m\u001b[0m_sess\u001b[0m \u001b[0;34m=\u001b[0m \u001b[0m_RecoverableSession\u001b[0m\u001b[0;34m(\u001b[0m\u001b[0mself\u001b[0m\u001b[0;34m.\u001b[0m\u001b[0m_coordinated_creator\u001b[0m\u001b[0;34m)\u001b[0m\u001b[0;34m\u001b[0m\u001b[0m\n\u001b[0m\u001b[1;32m    478\u001b[0m     \u001b[0;32melse\u001b[0m\u001b[0;34m:\u001b[0m\u001b[0;34m\u001b[0m\u001b[0m\n\u001b[1;32m    479\u001b[0m       \u001b[0mself\u001b[0m\u001b[0;34m.\u001b[0m\u001b[0m_sess\u001b[0m \u001b[0;34m=\u001b[0m \u001b[0mself\u001b[0m\u001b[0;34m.\u001b[0m\u001b[0m_coordinated_creator\u001b[0m\u001b[0;34m.\u001b[0m\u001b[0mcreate_session\u001b[0m\u001b[0;34m(\u001b[0m\u001b[0;34m)\u001b[0m\u001b[0;34m\u001b[0m\u001b[0m\n",
      "\u001b[0;32m/home/scitator/.conda/envs/python3/lib/python3.5/site-packages/tensorflow/python/training/monitored_session.py\u001b[0m in \u001b[0;36m__init__\u001b[0;34m(self, sess_creator)\u001b[0m\n\u001b[1;32m    820\u001b[0m     \"\"\"\n\u001b[1;32m    821\u001b[0m     \u001b[0mself\u001b[0m\u001b[0;34m.\u001b[0m\u001b[0m_sess_creator\u001b[0m \u001b[0;34m=\u001b[0m \u001b[0msess_creator\u001b[0m\u001b[0;34m\u001b[0m\u001b[0m\n\u001b[0;32m--> 822\u001b[0;31m     \u001b[0m_WrappedSession\u001b[0m\u001b[0;34m.\u001b[0m\u001b[0m__init__\u001b[0m\u001b[0;34m(\u001b[0m\u001b[0mself\u001b[0m\u001b[0;34m,\u001b[0m \u001b[0mself\u001b[0m\u001b[0;34m.\u001b[0m\u001b[0m_create_session\u001b[0m\u001b[0;34m(\u001b[0m\u001b[0;34m)\u001b[0m\u001b[0;34m)\u001b[0m\u001b[0;34m\u001b[0m\u001b[0m\n\u001b[0m\u001b[1;32m    823\u001b[0m \u001b[0;34m\u001b[0m\u001b[0m\n\u001b[1;32m    824\u001b[0m   \u001b[0;32mdef\u001b[0m \u001b[0m_create_session\u001b[0m\u001b[0;34m(\u001b[0m\u001b[0mself\u001b[0m\u001b[0;34m)\u001b[0m\u001b[0;34m:\u001b[0m\u001b[0;34m\u001b[0m\u001b[0m\n",
      "\u001b[0;32m/home/scitator/.conda/envs/python3/lib/python3.5/site-packages/tensorflow/python/training/monitored_session.py\u001b[0m in \u001b[0;36m_create_session\u001b[0;34m(self)\u001b[0m\n\u001b[1;32m    825\u001b[0m     \u001b[0;32mwhile\u001b[0m \u001b[0;32mTrue\u001b[0m\u001b[0;34m:\u001b[0m\u001b[0;34m\u001b[0m\u001b[0m\n\u001b[1;32m    826\u001b[0m       \u001b[0;32mtry\u001b[0m\u001b[0;34m:\u001b[0m\u001b[0;34m\u001b[0m\u001b[0m\n\u001b[0;32m--> 827\u001b[0;31m         \u001b[0;32mreturn\u001b[0m \u001b[0mself\u001b[0m\u001b[0;34m.\u001b[0m\u001b[0m_sess_creator\u001b[0m\u001b[0;34m.\u001b[0m\u001b[0mcreate_session\u001b[0m\u001b[0;34m(\u001b[0m\u001b[0;34m)\u001b[0m\u001b[0;34m\u001b[0m\u001b[0m\n\u001b[0m\u001b[1;32m    828\u001b[0m       \u001b[0;32mexcept\u001b[0m \u001b[0m_PREEMPTION_ERRORS\u001b[0m \u001b[0;32mas\u001b[0m \u001b[0me\u001b[0m\u001b[0;34m:\u001b[0m\u001b[0;34m\u001b[0m\u001b[0m\n\u001b[1;32m    829\u001b[0m         logging.info('An error was raised while a session was being created. '\n",
      "\u001b[0;32m/home/scitator/.conda/envs/python3/lib/python3.5/site-packages/tensorflow/python/training/monitored_session.py\u001b[0m in \u001b[0;36mcreate_session\u001b[0;34m(self)\u001b[0m\n\u001b[1;32m    536\u001b[0m       \u001b[0;34m\"\"\"Creates a coordinated session.\"\"\"\u001b[0m\u001b[0;34m\u001b[0m\u001b[0m\n\u001b[1;32m    537\u001b[0m       \u001b[0;31m# Keep the tf_sess for unit testing.\u001b[0m\u001b[0;34m\u001b[0m\u001b[0;34m\u001b[0m\u001b[0m\n\u001b[0;32m--> 538\u001b[0;31m       \u001b[0mself\u001b[0m\u001b[0;34m.\u001b[0m\u001b[0mtf_sess\u001b[0m \u001b[0;34m=\u001b[0m \u001b[0mself\u001b[0m\u001b[0;34m.\u001b[0m\u001b[0m_session_creator\u001b[0m\u001b[0;34m.\u001b[0m\u001b[0mcreate_session\u001b[0m\u001b[0;34m(\u001b[0m\u001b[0;34m)\u001b[0m\u001b[0;34m\u001b[0m\u001b[0m\n\u001b[0m\u001b[1;32m    539\u001b[0m       \u001b[0;31m# We don't want coordinator to suppress any exception.\u001b[0m\u001b[0;34m\u001b[0m\u001b[0;34m\u001b[0m\u001b[0m\n\u001b[1;32m    540\u001b[0m       \u001b[0mself\u001b[0m\u001b[0;34m.\u001b[0m\u001b[0mcoord\u001b[0m \u001b[0;34m=\u001b[0m \u001b[0mcoordinator\u001b[0m\u001b[0;34m.\u001b[0m\u001b[0mCoordinator\u001b[0m\u001b[0;34m(\u001b[0m\u001b[0mclean_stop_exception_types\u001b[0m\u001b[0;34m=\u001b[0m\u001b[0;34m[\u001b[0m\u001b[0;34m]\u001b[0m\u001b[0;34m)\u001b[0m\u001b[0;34m\u001b[0m\u001b[0m\n",
      "\u001b[0;32m/home/scitator/.conda/envs/python3/lib/python3.5/site-packages/tensorflow/python/training/monitored_session.py\u001b[0m in \u001b[0;36mcreate_session\u001b[0;34m(self)\u001b[0m\n\u001b[1;32m    410\u001b[0m         \u001b[0minit_op\u001b[0m\u001b[0;34m=\u001b[0m\u001b[0mself\u001b[0m\u001b[0;34m.\u001b[0m\u001b[0m_scaffold\u001b[0m\u001b[0;34m.\u001b[0m\u001b[0minit_op\u001b[0m\u001b[0;34m,\u001b[0m\u001b[0;34m\u001b[0m\u001b[0m\n\u001b[1;32m    411\u001b[0m         \u001b[0minit_feed_dict\u001b[0m\u001b[0;34m=\u001b[0m\u001b[0mself\u001b[0m\u001b[0;34m.\u001b[0m\u001b[0m_scaffold\u001b[0m\u001b[0;34m.\u001b[0m\u001b[0minit_feed_dict\u001b[0m\u001b[0;34m,\u001b[0m\u001b[0;34m\u001b[0m\u001b[0m\n\u001b[0;32m--> 412\u001b[0;31m         init_fn=self._scaffold.init_fn)\n\u001b[0m\u001b[1;32m    413\u001b[0m \u001b[0;34m\u001b[0m\u001b[0m\n\u001b[1;32m    414\u001b[0m \u001b[0;34m\u001b[0m\u001b[0m\n",
      "\u001b[0;32m/home/scitator/.conda/envs/python3/lib/python3.5/site-packages/tensorflow/python/training/session_manager.py\u001b[0m in \u001b[0;36mprepare_session\u001b[0;34m(self, master, init_op, saver, checkpoint_dir, checkpoint_filename_with_path, wait_for_checkpoint, max_wait_secs, config, init_feed_dict, init_fn)\u001b[0m\n\u001b[1;32m    271\u001b[0m         \u001b[0mwait_for_checkpoint\u001b[0m\u001b[0;34m=\u001b[0m\u001b[0mwait_for_checkpoint\u001b[0m\u001b[0;34m,\u001b[0m\u001b[0;34m\u001b[0m\u001b[0m\n\u001b[1;32m    272\u001b[0m         \u001b[0mmax_wait_secs\u001b[0m\u001b[0;34m=\u001b[0m\u001b[0mmax_wait_secs\u001b[0m\u001b[0;34m,\u001b[0m\u001b[0;34m\u001b[0m\u001b[0m\n\u001b[0;32m--> 273\u001b[0;31m         config=config)\n\u001b[0m\u001b[1;32m    274\u001b[0m     \u001b[0;32mif\u001b[0m \u001b[0;32mnot\u001b[0m \u001b[0mis_loaded_from_checkpoint\u001b[0m\u001b[0;34m:\u001b[0m\u001b[0;34m\u001b[0m\u001b[0m\n\u001b[1;32m    275\u001b[0m       \u001b[0;32mif\u001b[0m \u001b[0minit_op\u001b[0m \u001b[0;32mis\u001b[0m \u001b[0;32mNone\u001b[0m \u001b[0;32mand\u001b[0m \u001b[0;32mnot\u001b[0m \u001b[0minit_fn\u001b[0m \u001b[0;32mand\u001b[0m \u001b[0mself\u001b[0m\u001b[0;34m.\u001b[0m\u001b[0m_local_init_op\u001b[0m \u001b[0;32mis\u001b[0m \u001b[0;32mNone\u001b[0m\u001b[0;34m:\u001b[0m\u001b[0;34m\u001b[0m\u001b[0m\n",
      "\u001b[0;32m/home/scitator/.conda/envs/python3/lib/python3.5/site-packages/tensorflow/python/training/session_manager.py\u001b[0m in \u001b[0;36m_restore_checkpoint\u001b[0;34m(self, master, saver, checkpoint_dir, checkpoint_filename_with_path, wait_for_checkpoint, max_wait_secs, config)\u001b[0m\n\u001b[1;32m    187\u001b[0m \u001b[0;34m\u001b[0m\u001b[0m\n\u001b[1;32m    188\u001b[0m     \u001b[0;32mif\u001b[0m \u001b[0mcheckpoint_filename_with_path\u001b[0m\u001b[0;34m:\u001b[0m\u001b[0;34m\u001b[0m\u001b[0m\n\u001b[0;32m--> 189\u001b[0;31m       \u001b[0msaver\u001b[0m\u001b[0;34m.\u001b[0m\u001b[0mrestore\u001b[0m\u001b[0;34m(\u001b[0m\u001b[0msess\u001b[0m\u001b[0;34m,\u001b[0m \u001b[0mcheckpoint_filename_with_path\u001b[0m\u001b[0;34m)\u001b[0m\u001b[0;34m\u001b[0m\u001b[0m\n\u001b[0m\u001b[1;32m    190\u001b[0m       \u001b[0;32mreturn\u001b[0m \u001b[0msess\u001b[0m\u001b[0;34m,\u001b[0m \u001b[0;32mTrue\u001b[0m\u001b[0;34m\u001b[0m\u001b[0m\n\u001b[1;32m    191\u001b[0m \u001b[0;34m\u001b[0m\u001b[0m\n",
      "\u001b[0;32m/home/scitator/.conda/envs/python3/lib/python3.5/site-packages/tensorflow/python/training/saver.py\u001b[0m in \u001b[0;36mrestore\u001b[0;34m(self, sess, save_path)\u001b[0m\n\u001b[1;32m   1546\u001b[0m     \u001b[0mlogging\u001b[0m\u001b[0;34m.\u001b[0m\u001b[0minfo\u001b[0m\u001b[0;34m(\u001b[0m\u001b[0;34m\"Restoring parameters from %s\"\u001b[0m\u001b[0;34m,\u001b[0m \u001b[0msave_path\u001b[0m\u001b[0;34m)\u001b[0m\u001b[0;34m\u001b[0m\u001b[0m\n\u001b[1;32m   1547\u001b[0m     sess.run(self.saver_def.restore_op_name,\n\u001b[0;32m-> 1548\u001b[0;31m              {self.saver_def.filename_tensor_name: save_path})\n\u001b[0m\u001b[1;32m   1549\u001b[0m \u001b[0;34m\u001b[0m\u001b[0m\n\u001b[1;32m   1550\u001b[0m   \u001b[0;34m@\u001b[0m\u001b[0mstaticmethod\u001b[0m\u001b[0;34m\u001b[0m\u001b[0m\n",
      "\u001b[0;32m/home/scitator/.conda/envs/python3/lib/python3.5/site-packages/tensorflow/python/client/session.py\u001b[0m in \u001b[0;36mrun\u001b[0;34m(self, fetches, feed_dict, options, run_metadata)\u001b[0m\n\u001b[1;32m    787\u001b[0m     \u001b[0;32mtry\u001b[0m\u001b[0;34m:\u001b[0m\u001b[0;34m\u001b[0m\u001b[0m\n\u001b[1;32m    788\u001b[0m       result = self._run(None, fetches, feed_dict, options_ptr,\n\u001b[0;32m--> 789\u001b[0;31m                          run_metadata_ptr)\n\u001b[0m\u001b[1;32m    790\u001b[0m       \u001b[0;32mif\u001b[0m \u001b[0mrun_metadata\u001b[0m\u001b[0;34m:\u001b[0m\u001b[0;34m\u001b[0m\u001b[0m\n\u001b[1;32m    791\u001b[0m         \u001b[0mproto_data\u001b[0m \u001b[0;34m=\u001b[0m \u001b[0mtf_session\u001b[0m\u001b[0;34m.\u001b[0m\u001b[0mTF_GetBuffer\u001b[0m\u001b[0;34m(\u001b[0m\u001b[0mrun_metadata_ptr\u001b[0m\u001b[0;34m)\u001b[0m\u001b[0;34m\u001b[0m\u001b[0m\n",
      "\u001b[0;32m/home/scitator/.conda/envs/python3/lib/python3.5/site-packages/tensorflow/python/client/session.py\u001b[0m in \u001b[0;36m_run\u001b[0;34m(self, handle, fetches, feed_dict, options, run_metadata)\u001b[0m\n\u001b[1;32m    995\u001b[0m     \u001b[0;32mif\u001b[0m \u001b[0mfinal_fetches\u001b[0m \u001b[0;32mor\u001b[0m \u001b[0mfinal_targets\u001b[0m\u001b[0;34m:\u001b[0m\u001b[0;34m\u001b[0m\u001b[0m\n\u001b[1;32m    996\u001b[0m       results = self._do_run(handle, final_targets, final_fetches,\n\u001b[0;32m--> 997\u001b[0;31m                              feed_dict_string, options, run_metadata)\n\u001b[0m\u001b[1;32m    998\u001b[0m     \u001b[0;32melse\u001b[0m\u001b[0;34m:\u001b[0m\u001b[0;34m\u001b[0m\u001b[0m\n\u001b[1;32m    999\u001b[0m       \u001b[0mresults\u001b[0m \u001b[0;34m=\u001b[0m \u001b[0;34m[\u001b[0m\u001b[0;34m]\u001b[0m\u001b[0;34m\u001b[0m\u001b[0m\n",
      "\u001b[0;32m/home/scitator/.conda/envs/python3/lib/python3.5/site-packages/tensorflow/python/client/session.py\u001b[0m in \u001b[0;36m_do_run\u001b[0;34m(self, handle, target_list, fetch_list, feed_dict, options, run_metadata)\u001b[0m\n\u001b[1;32m   1130\u001b[0m     \u001b[0;32mif\u001b[0m \u001b[0mhandle\u001b[0m \u001b[0;32mis\u001b[0m \u001b[0;32mNone\u001b[0m\u001b[0;34m:\u001b[0m\u001b[0;34m\u001b[0m\u001b[0m\n\u001b[1;32m   1131\u001b[0m       return self._do_call(_run_fn, self._session, feed_dict, fetch_list,\n\u001b[0;32m-> 1132\u001b[0;31m                            target_list, options, run_metadata)\n\u001b[0m\u001b[1;32m   1133\u001b[0m     \u001b[0;32melse\u001b[0m\u001b[0;34m:\u001b[0m\u001b[0;34m\u001b[0m\u001b[0m\n\u001b[1;32m   1134\u001b[0m       return self._do_call(_prun_fn, self._session, handle, feed_dict,\n",
      "\u001b[0;32m/home/scitator/.conda/envs/python3/lib/python3.5/site-packages/tensorflow/python/client/session.py\u001b[0m in \u001b[0;36m_do_call\u001b[0;34m(self, fn, *args)\u001b[0m\n\u001b[1;32m   1150\u001b[0m         \u001b[0;32mexcept\u001b[0m \u001b[0mKeyError\u001b[0m\u001b[0;34m:\u001b[0m\u001b[0;34m\u001b[0m\u001b[0m\n\u001b[1;32m   1151\u001b[0m           \u001b[0;32mpass\u001b[0m\u001b[0;34m\u001b[0m\u001b[0m\n\u001b[0;32m-> 1152\u001b[0;31m       \u001b[0;32mraise\u001b[0m \u001b[0mtype\u001b[0m\u001b[0;34m(\u001b[0m\u001b[0me\u001b[0m\u001b[0;34m)\u001b[0m\u001b[0;34m(\u001b[0m\u001b[0mnode_def\u001b[0m\u001b[0;34m,\u001b[0m \u001b[0mop\u001b[0m\u001b[0;34m,\u001b[0m \u001b[0mmessage\u001b[0m\u001b[0;34m)\u001b[0m\u001b[0;34m\u001b[0m\u001b[0m\n\u001b[0m\u001b[1;32m   1153\u001b[0m \u001b[0;34m\u001b[0m\u001b[0m\n\u001b[1;32m   1154\u001b[0m   \u001b[0;32mdef\u001b[0m \u001b[0m_extend_graph\u001b[0m\u001b[0;34m(\u001b[0m\u001b[0mself\u001b[0m\u001b[0;34m)\u001b[0m\u001b[0;34m:\u001b[0m\u001b[0;34m\u001b[0m\u001b[0m\n",
      "\u001b[0;31mNotFoundError\u001b[0m: Key DynamicRnnDecoder/Decoder/decoder/output_layer/bias not found in checkpoint\n\t [[Node: save/RestoreV2_5 = RestoreV2[dtypes=[DT_FLOAT], _device=\"/job:localhost/replica:0/task:0/cpu:0\"](_arg_save/Const_0_0, save/RestoreV2_5/tensor_names, save/RestoreV2_5/shape_and_slices)]]\n\nCaused by op 'save/RestoreV2_5', defined at:\n  File \"/home/scitator/.conda/envs/python3/lib/python3.5/runpy.py\", line 184, in _run_module_as_main\n    \"__main__\", mod_spec)\n  File \"/home/scitator/.conda/envs/python3/lib/python3.5/runpy.py\", line 85, in _run_code\n    exec(code, run_globals)\n  File \"/home/scitator/.conda/envs/python3/lib/python3.5/site-packages/ipykernel/__main__.py\", line 3, in <module>\n    app.launch_new_instance()\n  File \"/home/scitator/.conda/envs/python3/lib/python3.5/site-packages/traitlets/config/application.py\", line 658, in launch_instance\n    app.start()\n  File \"/home/scitator/.conda/envs/python3/lib/python3.5/site-packages/ipykernel/kernelapp.py\", line 474, in start\n    ioloop.IOLoop.instance().start()\n  File \"/home/scitator/.conda/envs/python3/lib/python3.5/site-packages/zmq/eventloop/ioloop.py\", line 177, in start\n    super(ZMQIOLoop, self).start()\n  File \"/home/scitator/.conda/envs/python3/lib/python3.5/site-packages/tornado/ioloop.py\", line 887, in start\n    handler_func(fd_obj, events)\n  File \"/home/scitator/.conda/envs/python3/lib/python3.5/site-packages/tornado/stack_context.py\", line 275, in null_wrapper\n    return fn(*args, **kwargs)\n  File \"/home/scitator/.conda/envs/python3/lib/python3.5/site-packages/zmq/eventloop/zmqstream.py\", line 440, in _handle_events\n    self._handle_recv()\n  File \"/home/scitator/.conda/envs/python3/lib/python3.5/site-packages/zmq/eventloop/zmqstream.py\", line 472, in _handle_recv\n    self._run_callback(callback, msg)\n  File \"/home/scitator/.conda/envs/python3/lib/python3.5/site-packages/zmq/eventloop/zmqstream.py\", line 414, in _run_callback\n    callback(*args, **kwargs)\n  File \"/home/scitator/.conda/envs/python3/lib/python3.5/site-packages/tornado/stack_context.py\", line 275, in null_wrapper\n    return fn(*args, **kwargs)\n  File \"/home/scitator/.conda/envs/python3/lib/python3.5/site-packages/ipykernel/kernelbase.py\", line 276, in dispatcher\n    return self.dispatch_shell(stream, msg)\n  File \"/home/scitator/.conda/envs/python3/lib/python3.5/site-packages/ipykernel/kernelbase.py\", line 228, in dispatch_shell\n    handler(stream, idents, msg)\n  File \"/home/scitator/.conda/envs/python3/lib/python3.5/site-packages/ipykernel/kernelbase.py\", line 390, in execute_request\n    user_expressions, allow_stdin)\n  File \"/home/scitator/.conda/envs/python3/lib/python3.5/site-packages/ipykernel/ipkernel.py\", line 196, in do_execute\n    res = shell.run_cell(code, store_history=store_history, silent=silent)\n  File \"/home/scitator/.conda/envs/python3/lib/python3.5/site-packages/ipykernel/zmqshell.py\", line 501, in run_cell\n    return super(ZMQInteractiveShell, self).run_cell(*args, **kwargs)\n  File \"/home/scitator/.conda/envs/python3/lib/python3.5/site-packages/IPython/core/interactiveshell.py\", line 2717, in run_cell\n    interactivity=interactivity, compiler=compiler, result=result)\n  File \"/home/scitator/.conda/envs/python3/lib/python3.5/site-packages/IPython/core/interactiveshell.py\", line 2821, in run_ast_nodes\n    if self.run_code(code, result):\n  File \"/home/scitator/.conda/envs/python3/lib/python3.5/site-packages/IPython/core/interactiveshell.py\", line 2881, in run_code\n    exec(code_obj, self.user_global_ns, self.user_ns)\n  File \"<ipython-input-17-9d1566d7949a>\", line 1, in <module>\n    pred = next(predictions)\n  File \"/home/scitator/.conda/envs/python3/lib/python3.5/site-packages/tensorflow/python/estimator/estimator.py\", line 346, in predict\n    hooks=hooks) as mon_sess:\n  File \"/home/scitator/.conda/envs/python3/lib/python3.5/site-packages/tensorflow/python/training/monitored_session.py\", line 648, in __init__\n    stop_grace_period_secs=stop_grace_period_secs)\n  File \"/home/scitator/.conda/envs/python3/lib/python3.5/site-packages/tensorflow/python/training/monitored_session.py\", line 477, in __init__\n    self._sess = _RecoverableSession(self._coordinated_creator)\n  File \"/home/scitator/.conda/envs/python3/lib/python3.5/site-packages/tensorflow/python/training/monitored_session.py\", line 822, in __init__\n    _WrappedSession.__init__(self, self._create_session())\n  File \"/home/scitator/.conda/envs/python3/lib/python3.5/site-packages/tensorflow/python/training/monitored_session.py\", line 827, in _create_session\n    return self._sess_creator.create_session()\n  File \"/home/scitator/.conda/envs/python3/lib/python3.5/site-packages/tensorflow/python/training/monitored_session.py\", line 538, in create_session\n    self.tf_sess = self._session_creator.create_session()\n  File \"/home/scitator/.conda/envs/python3/lib/python3.5/site-packages/tensorflow/python/training/monitored_session.py\", line 403, in create_session\n    self._scaffold.finalize()\n  File \"/home/scitator/.conda/envs/python3/lib/python3.5/site-packages/tensorflow/python/training/monitored_session.py\", line 203, in finalize\n    self._saver = training_saver._get_saver_or_default()  # pylint: disable=protected-access\n  File \"/home/scitator/.conda/envs/python3/lib/python3.5/site-packages/tensorflow/python/training/saver.py\", line 736, in _get_saver_or_default\n    saver = Saver(sharded=True, allow_empty=True)\n  File \"/home/scitator/.conda/envs/python3/lib/python3.5/site-packages/tensorflow/python/training/saver.py\", line 1139, in __init__\n    self.build()\n  File \"/home/scitator/.conda/envs/python3/lib/python3.5/site-packages/tensorflow/python/training/saver.py\", line 1170, in build\n    restore_sequentially=self._restore_sequentially)\n  File \"/home/scitator/.conda/envs/python3/lib/python3.5/site-packages/tensorflow/python/training/saver.py\", line 687, in build\n    restore_sequentially, reshape)\n  File \"/home/scitator/.conda/envs/python3/lib/python3.5/site-packages/tensorflow/python/training/saver.py\", line 450, in _AddShardedRestoreOps\n    name=\"restore_shard\"))\n  File \"/home/scitator/.conda/envs/python3/lib/python3.5/site-packages/tensorflow/python/training/saver.py\", line 407, in _AddRestoreOps\n    tensors = self.restore_op(filename_tensor, saveable, preferred_shard)\n  File \"/home/scitator/.conda/envs/python3/lib/python3.5/site-packages/tensorflow/python/training/saver.py\", line 247, in restore_op\n    [spec.tensor.dtype])[0])\n  File \"/home/scitator/.conda/envs/python3/lib/python3.5/site-packages/tensorflow/python/ops/gen_io_ops.py\", line 640, in restore_v2\n    dtypes=dtypes, name=name)\n  File \"/home/scitator/.conda/envs/python3/lib/python3.5/site-packages/tensorflow/python/framework/op_def_library.py\", line 767, in apply_op\n    op_def=op_def)\n  File \"/home/scitator/.conda/envs/python3/lib/python3.5/site-packages/tensorflow/python/framework/ops.py\", line 2506, in create_op\n    original_op=self._default_original_op, op_def=op_def)\n  File \"/home/scitator/.conda/envs/python3/lib/python3.5/site-packages/tensorflow/python/framework/ops.py\", line 1269, in __init__\n    self._traceback = _extract_stack()\n\nNotFoundError (see above for traceback): Key DynamicRnnDecoder/Decoder/decoder/output_layer/bias not found in checkpoint\n\t [[Node: save/RestoreV2_5 = RestoreV2[dtypes=[DT_FLOAT], _device=\"/job:localhost/replica:0/task:0/cpu:0\"](_arg_save/Const_0_0, save/RestoreV2_5/tensor_names, save/RestoreV2_5/shape_and_slices)]]\n"
     ]
    }
   ],
   "source": [
    "pred = next(predictions)"
   ]
  },
  {
   "cell_type": "code",
   "execution_count": null,
   "metadata": {
    "collapsed": false,
    "scrolled": false
   },
   "outputs": [],
   "source": [
    "pred"
   ]
  },
  {
   "cell_type": "code",
   "execution_count": null,
   "metadata": {
    "collapsed": true
   },
   "outputs": [],
   "source": [
    "from pprint import pprint; pprint([(v.name, v.get_shape()) for v in tf.trainable_variables()])"
   ]
  },
  {
   "cell_type": "code",
   "execution_count": null,
   "metadata": {
    "collapsed": true
   },
   "outputs": [],
   "source": [
    "# at the prediction \n",
    "[('embeddings/embeddings/embedding_matrix:0',\n",
    "  TensorShape([Dimension(10), Dimension(5)])),\n",
    " ('DynamicRnnEncoder/Encoder/rnn/extended_multi_rnn_cell/input_transform/weights:0',\n",
    "  TensorShape([Dimension(5), Dimension(16)])),\n",
    " ('DynamicRnnEncoder/Encoder/rnn/extended_multi_rnn_cell/input_transform/biases:0',\n",
    "  TensorShape([Dimension(16)])),\n",
    " ('DynamicRnnEncoder/Encoder/rnn/extended_multi_rnn_cell/cell_0/lstm_cell/kernel:0',\n",
    "  TensorShape([Dimension(32), Dimension(64)])),\n",
    " ('DynamicRnnEncoder/Encoder/rnn/extended_multi_rnn_cell/cell_0/lstm_cell/bias:0',\n",
    "  TensorShape([Dimension(64)])),\n",
    " ('DynamicRnnEncoder/Encoder/rnn/extended_multi_rnn_cell/cell_1/lstm_cell/kernel:0',\n",
    "  TensorShape([Dimension(32), Dimension(64)])),\n",
    " ('DynamicRnnEncoder/Encoder/rnn/extended_multi_rnn_cell/cell_1/lstm_cell/bias:0',\n",
    "  TensorShape([Dimension(64)]))]"
   ]
  }
 ],
 "metadata": {
  "kernelspec": {
   "display_name": "Python 3",
   "language": "python",
   "name": "python3"
  },
  "language_info": {
   "codemirror_mode": {
    "name": "ipython",
    "version": 3
   },
   "file_extension": ".py",
   "mimetype": "text/x-python",
   "name": "python",
   "nbconvert_exporter": "python",
   "pygments_lexer": "ipython3",
   "version": "3.5.2"
  }
 },
 "nbformat": 4,
 "nbformat_minor": 2
}
