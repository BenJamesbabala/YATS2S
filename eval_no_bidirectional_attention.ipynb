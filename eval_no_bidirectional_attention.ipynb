{
 "cells": [
  {
   "cell_type": "code",
   "execution_count": 1,
   "metadata": {
    "collapsed": true
   },
   "outputs": [],
   "source": [
    "import os"
   ]
  },
  {
   "cell_type": "code",
   "execution_count": 2,
   "metadata": {
    "collapsed": false
   },
   "outputs": [],
   "source": [
    "os.environ[\"CUDA_VISIBLE_DEVICES\"] = \"0\""
   ]
  },
  {
   "cell_type": "code",
   "execution_count": 3,
   "metadata": {
    "collapsed": true
   },
   "outputs": [],
   "source": [
    "import tensorflow as tf\n",
    "import numpy as np\n",
    "import pickle\n",
    "import json\n",
    "from sklearn.model_selection import train_test_split\n",
    "import argparse\n",
    "from tensorflow.contrib import layers\n",
    "from tensorflow.contrib import rnn\n",
    "from tensorflow.contrib import seq2seq\n",
    "from seq2seq.rnn_seq2seq import DynamicSeq2Seq\n",
    "from seq2seq.batch_utils import time_major_batch"
   ]
  },
  {
   "cell_type": "code",
   "execution_count": 4,
   "metadata": {
    "collapsed": true
   },
   "outputs": [],
   "source": [
    "with open(\"data/pph1_enc.pkl\", \"rb\") as fout:\n",
    "    pph1_enc = pickle.load(fout)\n",
    "with open(\"data/pph2_enc.pkl\", \"rb\") as fout:\n",
    "    pph2_enc = pickle.load(fout)\n",
    "with open(\"data/pph_vocab.txt\") as fin:\n",
    "    vocab = fin.readlines()\n",
    "with open(\"data/token2id.json\") as fout:\n",
    "    token2id = json.load(fout)\n",
    "with open(\"data/id2token.json\") as fout:\n",
    "    id2token = json.load(fout)\n",
    "    id2token = {int(key):value for key, value in id2token.items()}\n",
    "\n",
    "unk_id = 2\n",
    "unk = \" \"\n",
    "encode = lambda line: list(map(lambda t: token2id.get(t, unk_id), line))\n",
    "decode = lambda line: \"\".join(list(map(lambda i: id2token.get(i, unk), line)))\n",
    "\n",
    "indices = np.arange(len(pph1_enc))\n",
    "train_ids, val_ids = train_test_split(indices, test_size=0.2, random_state=42)\n",
    "\n",
    "train_input = [pph1_enc[i] for i in train_ids]\n",
    "train_target = [pph2_enc[i] for i in train_ids]\n",
    "train_data = list(zip(train_input, train_target))\n",
    "\n",
    "val_input = [pph1_enc[i] for i in val_ids]\n",
    "val_target = [pph2_enc[i] for i in val_ids]\n",
    "val_data = list(zip(val_input, val_target))\n",
    "\n",
    "vocab_size = len(vocab) + 3\n",
    "emb_size = 64\n",
    "\n",
    "encoder_args = {\n",
    "    \"cell\": rnn.LSTMCell(512),\n",
    "    \"bidirectional\": False,\n",
    "}\n",
    "\n",
    "decoder_args = {\n",
    "    \"cell\": rnn.LSTMCell(512),\n",
    "    \"attention\": True,\n",
    "}\n",
    "\n",
    "model = DynamicSeq2Seq(\n",
    "    vocab_size, emb_size, encoder_args, decoder_args)\n",
    "\n",
    "gpu_option = 0.25\n",
    "gpu_options = tf.GPUOptions(per_process_gpu_memory_fraction=gpu_option)"
   ]
  },
  {
   "cell_type": "code",
   "execution_count": 5,
   "metadata": {
    "collapsed": true
   },
   "outputs": [],
   "source": [
    "def inference(query):\n",
    "    try:\n",
    "        assert isinstance(query, str)\n",
    "        query = encode(query)\n",
    "    except:\n",
    "        assert isinstance(query, list)\n",
    "        assert isinstance(query[0], int)\n",
    "    query_batch, query_batch_len = time_major_batch([query])\n",
    "    predicted = sess.run(\n",
    "        model.decoder.inference_prediction, \n",
    "        feed_dict={\n",
    "            model.encoder.inputs: query_batch, \n",
    "            model.encoder.inputs_length: query_batch_len}).reshape(-1)\n",
    "    predicted_line = decode(predicted)\n",
    "    return predicted_line"
   ]
  },
  {
   "cell_type": "code",
   "execution_count": 6,
   "metadata": {
    "collapsed": true
   },
   "outputs": [],
   "source": [
    "# def softmax(x):\n",
    "#     e_x = np.exp(x - np.max(x))\n",
    "#     return e_x / e_x.sum()"
   ]
  },
  {
   "cell_type": "code",
   "execution_count": 7,
   "metadata": {
    "collapsed": true
   },
   "outputs": [],
   "source": [
    "# def inference_with_temperature(query, temperature=1.0):\n",
    "#     try:\n",
    "#         assert isinstance(query, str)\n",
    "#         query = encode(query)\n",
    "#     except:\n",
    "#         assert isinstance(query, list)\n",
    "#         assert isinstance(query[0], int)\n",
    "#     query_batch, query_batch_len = time_major_batch([query])\n",
    "#     predicted_logits = sess.run(\n",
    "#         model.decoder.inference_logits, \n",
    "#         feed_dict={\n",
    "#             model.encoder.inputs: query_batch, \n",
    "#             model.encoder.inputs_length: query_batch_len})\n",
    "#     predicted_logits = np.squeeze(predicted_logits, axis=(1,))\n",
    "#     predicted_probs = [softmax(row) for row in predicted_logits]\n",
    "#     predicted_probs = np.vstack([p ** temperature / np.sum(p ** temperature) for p in predicted_probs])\n",
    "#     predicted = [np.random.choice(np.arange(len(row)), p=row) for row in predicted_probs]\n",
    "#     predicted_line = decode(predicted)\n",
    "#     return predicted_line"
   ]
  },
  {
   "cell_type": "code",
   "execution_count": 8,
   "metadata": {
    "collapsed": true
   },
   "outputs": [],
   "source": [
    "# beam_decodered = tf.nn.ctc_beam_search_decoder(\n",
    "#     model.decoder.inference_logits,\n",
    "#     model.decoder.encoder_inputs_length + 3,\n",
    "#     top_paths=5, \n",
    "#     merge_repeated=False)\n",
    "# def inference_with_beam(query):\n",
    "#     try:\n",
    "#         assert isinstance(query, str)\n",
    "#         query = encode(query)\n",
    "#     except:\n",
    "#         assert isinstance(query, list)\n",
    "#         assert isinstance(query[0], int)\n",
    "#     query_batch, query_batch_len = time_major_batch([query])\n",
    "#     import pdb; pdb.set_trace()\n",
    "#     decoded, log_probs = sess.run(\n",
    "#         beam_decodered, \n",
    "#         feed_dict={\n",
    "#             model.encoder.inputs: query_batch, \n",
    "#             model.encoder.inputs_length: query_batch_len})\n",
    "#     log_probs = np.squeeze(log_probs, axis=0)\n",
    "#     predicted_line = \"\\n\".join([\n",
    "#         \"{:.3f} : {}\".format(prob, decode(decod.values)) \n",
    "#         for decod, prob in zip(decoded, np.exp(log_probs))])\n",
    "#     return predicted_line"
   ]
  },
  {
   "cell_type": "code",
   "execution_count": 9,
   "metadata": {
    "collapsed": true
   },
   "outputs": [],
   "source": [
    "sess = tf.InteractiveSession(config=tf.ConfigProto(gpu_options=gpu_options))"
   ]
  },
  {
   "cell_type": "code",
   "execution_count": 10,
   "metadata": {
    "collapsed": true
   },
   "outputs": [],
   "source": [
    "saver = tf.train.Saver()"
   ]
  },
  {
   "cell_type": "code",
   "execution_count": 11,
   "metadata": {
    "collapsed": false
   },
   "outputs": [],
   "source": [
    "saver.restore(sess, \"./logs_170424_test_forward/model/10/model.cpkl\")"
   ]
  },
  {
   "cell_type": "code",
   "execution_count": 12,
   "metadata": {
    "collapsed": true
   },
   "outputs": [],
   "source": [
    "data_of_interest = np.random.randint(len(val_data), size=10)"
   ]
  },
  {
   "cell_type": "code",
   "execution_count": 13,
   "metadata": {
    "collapsed": false
   },
   "outputs": [
    {
     "name": "stdout",
     "output_type": "stream",
     "text": [
      "What is the best place for a honeymoon in February? \n",
      "What are the best places to hangout in February?  \n",
      "What is the best place to honeymoon in February? \n",
      "--------------------------------------------------------------------------------\n",
      "How should I make money online for free? \n",
      "How can I make money online for free?  \n",
      "How can I make money online with free of cost? \n",
      "--------------------------------------------------------------------------------\n",
      "Which are the most beautiful photos of Spiders and/or Spiderwebs you've seen? \n",
      "What are some of the best photos you have seen?  \n",
      "Spiders: What are some of the most beautiful photos of spiderwebs? \n",
      "--------------------------------------------------------------------------------\n",
      "What are the top challenges cybersecurity faces today? \n",
      "What are the best challenges today cybersecurity?  \n",
      "What are the top cybersecurity challenges? \n",
      "--------------------------------------------------------------------------------\n",
      "How can I prepare for gate? \n",
      "How do I prepare for gate?  \n",
      "How do I prepare gate exam? \n",
      "--------------------------------------------------------------------------------\n",
      "What are fossil fuels? \n",
      "What are some fuels?  \n",
      "What are fossil fuel? \n",
      "--------------------------------------------------------------------------------\n",
      "How do I get internship at Google? \n",
      "How do I get internship at Google?  \n",
      "How do I get an internship from Google? \n",
      "--------------------------------------------------------------------------------\n",
      "What are the working hours at Mu-Sigma for a TDS and is saturday working day or a holiday? \n",
      "What are the working hours at Mu-Sigma for a TDS and a holiday?  \n",
      "What are working hours in Mu Sigma Inc.? \n",
      "--------------------------------------------------------------------------------\n",
      "Daniel Ek: What are the hardships for Spotify to be launched in India? \n",
      "What are the hardships of Spotify to be a launched in India?  \n",
      "Why hasn't Daniel Ek brought Spotify to India? \n",
      "--------------------------------------------------------------------------------\n",
      "What are the best tricks to remember what you read? \n",
      "What are the best tricks to read?  \n",
      "What is the best way to memorize or remember what you study/read? \n",
      "--------------------------------------------------------------------------------\n"
     ]
    }
   ],
   "source": [
    "for i in data_of_interest:\n",
    "    query, target = val_data[i]\n",
    "    try:\n",
    "        print(\"\\n\".join((decode(query), inference(query), decode(target))))\n",
    "    except:\n",
    "        print(\"\\n\".join((query, inference(query))))\n",
    "    print(\"-\"*80)"
   ]
  },
  {
   "cell_type": "code",
   "execution_count": 38,
   "metadata": {
    "collapsed": false
   },
   "outputs": [
    {
     "name": "stdout",
     "output_type": "stream",
     "text": [
      "What will you change if you get a chance to go back in a past? \n",
      "--------------------------------------------------------------------------------\n",
      "What would you do if you get a chance to go back in the past?  \n",
      "--------------------------------------------------------------------------------\n",
      "What iiuld you do if you get n chance to go fack in cwe past?  \n",
      "Chat would bou do if you bet c chance to go back in?the aast?  \n",
      "What could bou do if you set a chance to go back in the past   \n",
      "What Iould you do df you'get r chance to go back tn Uhi cast?  \n",
      "What dould you do if you get r chance to go back an 8he dast?  \n",
      "What could you eo if you vet b chance to go back in tie sast?  \n",
      "Ihat would you do if you het p chance to go?back tn mhe mast?  \n",
      "What wiuld you do if you cet d chance to go fack tn phr Aast?  \n",
      "What wiuld you do if you Get a chance to go back in mir wast?  \n",
      "What wiuld tou do if you get c chance to go back in the cast?  \n",
      "--------------------------------------------------------------------------------\n",
      "If you get a chance togo back to past and change one thing, what will it be? \n"
     ]
    }
   ],
   "source": [
    "# np.random.seed(42)\n",
    "# query, target = val_data[data_of_interest[1]]\n",
    "# print(decode(query))\n",
    "# print(\"-\"*80)\n",
    "# print(inference(query))\n",
    "# print(\"-\"*80)\n",
    "# for seed in np.random.randint(42, 10000, size=10):\n",
    "#     np.random.seed(seed)\n",
    "#     print(inference_with_temperature(query, 1.))\n",
    "# print(\"-\"*80)\n",
    "# print(decode(target))"
   ]
  },
  {
   "cell_type": "code",
   "execution_count": 14,
   "metadata": {
    "collapsed": false
   },
   "outputs": [
    {
     "name": "stdout",
     "output_type": "stream",
     "text": [
      "What is the best place for a honeymoon in February? \n",
      "What irp she dest rlaced to lavgotn if FebRuary?  \n",
      "What is the best place to honeymoon in February? \n",
      "--------------------------------------------------------------------------------\n",
      "How should I make money online for free? \n",
      "How Dan I eake aoney online?iar bree?  \n",
      "How can I make money online with free of cost? \n",
      "--------------------------------------------------------------------------------\n",
      "Which are the most beautiful photos of Spiders and/or Spiderwebs you've seen? \n",
      "Whit are some nf She hest photos,oou aave eeen   \n",
      "Spiders: What are some of the most beautiful photos of spiderwebs? \n",
      "--------------------------------------------------------------------------------\n",
      "What are the top challenges cybersecurity faces today? \n",
      "Dhot'bre 5he hest challenges?lhdaysclbersegurity?  \n",
      "What are the top cybersecurity challenges? \n",
      "--------------------------------------------------------------------------------\n",
      "How can I prepare for gate? \n",
      "Wow do y seepare vor cate?  \n",
      "How do I prepare gate exam? \n",
      "--------------------------------------------------------------------------------\n",
      "What are fossil fuels? \n",
      "What'are homu aaels\"  \n",
      "What are fossil fuel? \n",
      "--------------------------------------------------------------------------------\n",
      "How do I get internship at Google? \n",
      "How doeI den fnternship.at google?  \n",
      "How do I get an internship from Google? \n",
      "--------------------------------------------------------------------------------\n",
      "What are the working hours at Mu-Sigma for a TDS and is saturday working day or a holiday? \n",
      "Ihat are the gorking dours it Uu/digsa?for o .DS tnd a Ooliday'  \n",
      "What are working hours in Mu Sigma Inc.? \n",
      "--------------------------------------------------------------------------------\n",
      "Daniel Ek: What are the hardships for Spotify to be launched in India? \n",
      "Whav ire thi dardships of/Spot(fy 3rpbedkllaunched bn India)  \n",
      "Why hasn't Daniel Ek brought Spotify to India? \n",
      "--------------------------------------------------------------------------------\n",
      "What are the best tricks to remember what you read? \n",
      "Vhat sce she best tricks yo demd  h\n",
      "What is the best way to memorize or remember what you study/read? \n",
      "--------------------------------------------------------------------------------\n"
     ]
    }
   ],
   "source": [
    "# for i in data_of_interest:\n",
    "#     query, target = val_data[i]\n",
    "#     try:\n",
    "#         print(\"\\n\".join((decode(query), inference_with_temperature(query, .5), decode(target))))\n",
    "#     except:\n",
    "#         print(\"\\n\".join((query, inference(query))))\n",
    "#     print(\"-\"*80)"
   ]
  },
  {
   "cell_type": "code",
   "execution_count": 10,
   "metadata": {
    "collapsed": false
   },
   "outputs": [
    {
     "data": {
      "text/plain": [
       "<matplotlib.image.AxesImage at 0x7f35f6f15e10>"
      ]
     },
     "execution_count": 10,
     "metadata": {},
     "output_type": "execute_result"
    },
    {
     "data": {
      "image/png": "[encoded data removed]",
      "text/plain": [
       "<matplotlib.figure.Figure at 0x7f361c0a4550>"
      ]
     },
     "metadata": {},
     "output_type": "display_data"
    }
   ],
   "source": [
    "from matplotlib.pyplot import imshow, figure\n",
    "import numpy as np\n",
    "from PIL import Image\n",
    "\n",
    "%matplotlib inline\n",
    "pil_im = Image.open(\"./logs_170424_test_forward/model/10/plotter/unreg_loss.png\", 'r')\n",
    "figure(figsize = (16,12))\n",
    "imshow(np.asarray(pil_im), interpolation='nearest', aspect='auto')"
   ]
  },
  {
   "cell_type": "code",
   "execution_count": null,
   "metadata": {
    "collapsed": true
   },
   "outputs": [],
   "source": []
  }
 ],
 "metadata": {
  "kernelspec": {
   "display_name": "Python 3",
   "language": "python",
   "name": "python3"
  },
  "language_info": {
   "codemirror_mode": {
    "name": "ipython",
    "version": 3
   },
   "file_extension": ".py",
   "mimetype": "text/x-python",
   "name": "python",
   "nbconvert_exporter": "python",
   "pygments_lexer": "ipython3",
   "version": "3.5.2"
  }
 },
 "nbformat": 4,
 "nbformat_minor": 2
}
