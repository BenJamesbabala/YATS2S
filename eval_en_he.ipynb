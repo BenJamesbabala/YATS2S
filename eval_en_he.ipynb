{
 "cells": [
  {
   "cell_type": "code",
   "execution_count": 1,
   "metadata": {
    "collapsed": true
   },
   "outputs": [],
   "source": [
    "import os"
   ]
  },
  {
   "cell_type": "code",
   "execution_count": 2,
   "metadata": {
    "collapsed": false
   },
   "outputs": [],
   "source": [
    "os.environ[\"CUDA_VISIBLE_DEVICES\"] = \"0\""
   ]
  },
  {
   "cell_type": "code",
   "execution_count": 3,
   "metadata": {
    "collapsed": true
   },
   "outputs": [],
   "source": [
    "import tensorflow as tf\n",
    "import numpy as np\n",
    "import pickle\n",
    "import json\n",
    "from sklearn.model_selection import train_test_split\n",
    "import argparse\n",
    "from tensorflow.contrib import layers\n",
    "from tensorflow.contrib import rnn\n",
    "from tensorflow.contrib import seq2seq\n",
    "from seq2seq.rnn_seq2seq import DynamicSeq2Seq\n",
    "from seq2seq.batch_utils import time_major_batch"
   ]
  },
  {
   "cell_type": "code",
   "execution_count": 4,
   "metadata": {
    "collapsed": true
   },
   "outputs": [],
   "source": [
    "with open(\"data/he_translate/en_words_enc.pkl\", \"rb\") as fout:\n",
    "    pph1_enc = pickle.load(fout)\n",
    "with open(\"data/he_translate/he_words_enc.pkl\", \"rb\") as fout:\n",
    "    pph2_enc = pickle.load(fout)\n",
    "with open(\"data/he_translate/vocab.txt\") as fin:\n",
    "    vocab = fin.readlines()\n",
    "with open(\"data/he_translate/token2id.json\") as fout:\n",
    "    token2id = json.load(fout)\n",
    "with open(\"data/he_translate/id2token.json\") as fout:\n",
    "    id2token = json.load(fout)\n",
    "    id2token = {int(key):value for key, value in id2token.items()}\n",
    "\n",
    "unk_id = 2\n",
    "unk = \" \"\n",
    "encode = lambda line: list(map(lambda t: token2id.get(t, unk_id), line))\n",
    "decode = lambda line: \"\".join(list(map(lambda i: id2token.get(i, unk), line)))\n",
    "\n",
    "indices = np.arange(len(pph1_enc))\n",
    "train_ids, val_ids = train_test_split(indices, test_size=0.2, random_state=42)\n",
    "\n",
    "train_input = [pph1_enc[i] for i in train_ids]\n",
    "train_target = [pph2_enc[i] for i in train_ids]\n",
    "train_data = list(zip(train_input, train_target))\n",
    "\n",
    "val_input = [pph1_enc[i] for i in val_ids]\n",
    "val_target = [pph2_enc[i] for i in val_ids]\n",
    "val_data = list(zip(val_input, val_target))\n",
    "\n",
    "vocab_size = len(vocab) + 3\n",
    "emb_size = 64\n",
    "\n",
    "encoder_args = {\n",
    "    \"cell\": rnn.LSTMCell(256),\n",
    "    \"bidirectional\": True,\n",
    "}\n",
    "\n",
    "decoder_args = {\n",
    "    \"cell\": rnn.LSTMCell(512),\n",
    "    \"attention\": True,\n",
    "}\n",
    "\n",
    "model = DynamicSeq2Seq(\n",
    "    vocab_size, emb_size, encoder_args, decoder_args)\n",
    "\n",
    "gpu_option = 0.25\n",
    "gpu_options = tf.GPUOptions(per_process_gpu_memory_fraction=gpu_option)"
   ]
  },
  {
   "cell_type": "code",
   "execution_count": 6,
   "metadata": {
    "collapsed": true
   },
   "outputs": [],
   "source": [
    "def inference(query):\n",
    "    try:\n",
    "        assert isinstance(query, str)\n",
    "        query = encode(query)\n",
    "    except:\n",
    "        assert isinstance(query, list)\n",
    "        assert isinstance(query[0], int)\n",
    "    query_batch, query_batch_len = time_major_batch([query])\n",
    "    predicted = sess.run(\n",
    "        model.decoder.inference_prediction, \n",
    "        feed_dict={\n",
    "            model.encoder.inputs: query_batch, \n",
    "            model.encoder.inputs_length: query_batch_len}).reshape(-1)\n",
    "    predicted_line = decode(predicted)\n",
    "    return predicted_line"
   ]
  },
  {
   "cell_type": "code",
   "execution_count": 7,
   "metadata": {
    "collapsed": true
   },
   "outputs": [],
   "source": [
    "sess = tf.InteractiveSession(config=tf.ConfigProto(gpu_options=gpu_options))"
   ]
  },
  {
   "cell_type": "code",
   "execution_count": 8,
   "metadata": {
    "collapsed": true
   },
   "outputs": [],
   "source": [
    "saver = tf.train.Saver()"
   ]
  },
  {
   "cell_type": "code",
   "execution_count": 9,
   "metadata": {
    "collapsed": false
   },
   "outputs": [],
   "source": [
    "saver.restore(sess, \"./logs_170424_he_en/model/10/model.cpkl\")"
   ]
  },
  {
   "cell_type": "code",
   "execution_count": 10,
   "metadata": {
    "collapsed": false
   },
   "outputs": [
    {
     "name": "stdout",
     "output_type": "stream",
     "text": [
      "eli\n",
      "אלי \n",
      "אלי\n",
      "--------------------------------------------------------------------------------\n",
      "1959 Israeli legislative election\n",
      "הבחירות לכנסת העשרי חשמה \n",
      "הבחירות לכנסת הרביעית\n",
      "--------------------------------------------------------------------------------\n",
      "2015 in the United States\n",
      "קטגוריה:2015 בארצות הברית \n",
      "2015 בארצות הברית\n",
      "--------------------------------------------------------------------------------\n",
      "Spouses of politicians\n",
      "קטגוריה:פוליטיקאים מדינים \n",
      "קטגוריה:בני זוג של פוליטיקאים\n",
      "--------------------------------------------------------------------------------\n",
      "1853 by country\n",
      "קטגוריה:1853 לפי מד\n",
      "קטגוריה:1853 לפי מדינות\n",
      "--------------------------------------------------------------------------------\n",
      "Location map Russia Sakhalin Oblast\n",
      "תבנית:מפת מיקום/סחלין אובלסט \n",
      "תבנית:מפת מיקום/מחוז סחלין\n",
      "--------------------------------------------------------------------------------\n",
      "Chief of Staff of the United States Army\n",
      "הארמייה הממלכתית של ארמייה המדינתית \n",
      "ראש מטה צבא ארצות הברית\n",
      "--------------------------------------------------------------------------------\n",
      "Washington Haggadah\n",
      "וושינגטון האגדה \n",
      "הגדת וושינגטון\n",
      "--------------------------------------------------------------------------------\n",
      "Japan Prize\n",
      "פרס יפן \n",
      "פרס יפן\n",
      "--------------------------------------------------------------------------------\n",
      "ross\n",
      "רוס \n",
      "רוס\n",
      "--------------------------------------------------------------------------------\n"
     ]
    }
   ],
   "source": [
    "for i in np.random.randint(len(val_data), size=10):\n",
    "    query, target = val_data[i]\n",
    "    try:\n",
    "        print(\"\\n\".join((decode(query), inference(query), decode(target))))\n",
    "    except:\n",
    "        print(\"\\n\".join((query, inference(query))))\n",
    "    print(\"-\"*80)"
   ]
  },
  {
   "cell_type": "code",
   "execution_count": 11,
   "metadata": {
    "collapsed": false
   },
   "outputs": [
    {
     "name": "stdout",
     "output_type": "stream",
     "text": [
      "קלגנפורט\n",
      "Clagenfort \n",
      "Klagenfurt\n",
      "--------------------------------------------------------------------------------\n",
      "626\n",
      "6266 \n",
      "626\n",
      "--------------------------------------------------------------------------------\n",
      "R\n",
      "RR \n",
      "R\n",
      "--------------------------------------------------------------------------------\n",
      "איבגי\n",
      "ivgy \n",
      "ivgy\n",
      "--------------------------------------------------------------------------------\n",
      "הסימפוניה החמישית של צ'ייקובסקי\n",
      "Symphony No. 1 \n",
      "Symphony No. 5\n",
      "--------------------------------------------------------------------------------\n",
      "ניקופול\n",
      "Nikopoll \n",
      "Nikopol\n",
      "--------------------------------------------------------------------------------\n",
      "משפטים\n",
      "Mishpatian\n",
      "Statute\n",
      "--------------------------------------------------------------------------------\n",
      "תבנית:מפת מיקום/הוואי\n",
      "Location map India Hawaii\n",
      "Location map USA Hawaii\n",
      "--------------------------------------------------------------------------------\n",
      "קטגוריה:ניו יורק: ישיבות\n",
      "Populated places in New York\n",
      "Orthodox yeshivas in New York City\n",
      "--------------------------------------------------------------------------------\n",
      "ג'ון קאסל\n",
      "John Cassell \n",
      "John Castle\n",
      "--------------------------------------------------------------------------------\n"
     ]
    }
   ],
   "source": [
    "for i in np.random.randint(len(val_data), size=10):\n",
    "    target, query = val_data[i]\n",
    "    try:\n",
    "        print(\"\\n\".join((decode(query), inference(query), decode(target))))\n",
    "    except:\n",
    "        print(\"\\n\".join((query, inference(query))))\n",
    "    print(\"-\"*80)"
   ]
  },
  {
   "cell_type": "code",
   "execution_count": 11,
   "metadata": {
    "collapsed": false
   },
   "outputs": [
    {
     "name": "stdout",
     "output_type": "stream",
     "text": [
      "How can I apply police on my interviews?  \n"
     ]
    }
   ],
   "source": [
    "query = \"Can I access my policy information online?\"\n",
    "print(inference(query))"
   ]
  },
  {
   "cell_type": "code",
   "execution_count": null,
   "metadata": {
    "collapsed": true
   },
   "outputs": [],
   "source": []
  },
  {
   "cell_type": "code",
   "execution_count": 12,
   "metadata": {
    "collapsed": false
   },
   "outputs": [
    {
     "data": {
      "text/plain": [
       "<matplotlib.image.AxesImage at 0x7fd56772d278>"
      ]
     },
     "execution_count": 12,
     "metadata": {},
     "output_type": "execute_result"
    },
    {
     "data": {
      "image/png": "[encoded data removed]",
      "text/plain": [
       "<matplotlib.figure.Figure at 0x7fd5bffbf860>"
      ]
     },
     "metadata": {},
     "output_type": "display_data"
    }
   ],
   "source": [
    "from matplotlib.pyplot import imshow, figure\n",
    "import numpy as np\n",
    "from PIL import Image\n",
    "\n",
    "%matplotlib inline\n",
    "pil_im = Image.open(\"./logs_170424_he_en/model/10/plotter/unreg_loss.png\", 'r')\n",
    "figure(figsize = (16,12))\n",
    "imshow(np.asarray(pil_im), interpolation='nearest', aspect='auto')"
   ]
  },
  {
   "cell_type": "code",
   "execution_count": null,
   "metadata": {
    "collapsed": true
   },
   "outputs": [],
   "source": []
  }
 ],
 "metadata": {
  "kernelspec": {
   "display_name": "Python 3",
   "language": "python",
   "name": "python3"
  },
  "language_info": {
   "codemirror_mode": {
    "name": "ipython",
    "version": 3
   },
   "file_extension": ".py",
   "mimetype": "text/x-python",
   "name": "python",
   "nbconvert_exporter": "python",
   "pygments_lexer": "ipython3",
   "version": "3.5.2"
  }
 },
 "nbformat": 4,
 "nbformat_minor": 2
}
