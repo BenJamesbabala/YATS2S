{
 "cells": [
  {
   "cell_type": "code",
   "execution_count": 1,
   "metadata": {
    "collapsed": true
   },
   "outputs": [],
   "source": [
    "import os"
   ]
  },
  {
   "cell_type": "code",
   "execution_count": 2,
   "metadata": {
    "collapsed": false
   },
   "outputs": [],
   "source": [
    "os.environ[\"CUDA_VISIBLE_DEVICES\"] = \"0\""
   ]
  },
  {
   "cell_type": "code",
   "execution_count": 3,
   "metadata": {
    "collapsed": true
   },
   "outputs": [],
   "source": [
    "import tensorflow as tf\n",
    "import numpy as np\n",
    "import pickle\n",
    "import json\n",
    "from sklearn.model_selection import train_test_split\n",
    "import argparse\n",
    "from tensorflow.contrib import layers\n",
    "from tensorflow.contrib import rnn\n",
    "from tensorflow.contrib import seq2seq\n",
    "from seq2seq.rnn_seq2seq import DynamicSeq2Seq\n",
    "from seq2seq.batch_utils import time_major_batch"
   ]
  },
  {
   "cell_type": "code",
   "execution_count": 4,
   "metadata": {
    "collapsed": true
   },
   "outputs": [],
   "source": [
    "with open(\"data/pph1_enc.pkl\", \"rb\") as fout:\n",
    "    pph1_enc = pickle.load(fout)\n",
    "with open(\"data/pph2_enc.pkl\", \"rb\") as fout:\n",
    "    pph2_enc = pickle.load(fout)\n",
    "with open(\"data/pph_vocab.txt\") as fin:\n",
    "    vocab = fin.readlines()\n",
    "with open(\"data/token2id.json\") as fout:\n",
    "    token2id = json.load(fout)\n",
    "with open(\"data/id2token.json\") as fout:\n",
    "    id2token = json.load(fout)\n",
    "    id2token = {int(key):value for key, value in id2token.items()}\n",
    "\n",
    "unk_id = 2\n",
    "unk = \" \"\n",
    "encode = lambda line: list(map(lambda t: token2id.get(t, unk_id), line))\n",
    "decode = lambda line: \"\".join(list(map(lambda i: id2token.get(i, unk), line)))\n",
    "\n",
    "indices = np.arange(len(pph1_enc))\n",
    "train_ids, val_ids = train_test_split(indices, test_size=0.2, random_state=42)\n",
    "\n",
    "train_input = [pph1_enc[i] for i in train_ids]\n",
    "train_target = [pph2_enc[i] for i in train_ids]\n",
    "train_data = list(zip(train_input, train_target))\n",
    "\n",
    "val_input = [pph1_enc[i] for i in val_ids]\n",
    "val_target = [pph2_enc[i] for i in val_ids]\n",
    "val_data = list(zip(val_input, val_target))\n",
    "\n",
    "vocab_size = len(vocab) + 3\n",
    "emb_size = 64\n",
    "\n",
    "encoder_args = {\n",
    "    \"cell\": rnn.LSTMCell(512),\n",
    "    \"bidirectional\": False,\n",
    "}\n",
    "\n",
    "decoder_args = {\n",
    "    \"cell\": rnn.LSTMCell(512),\n",
    "    \"attention\": False,\n",
    "}\n",
    "\n",
    "model = DynamicSeq2Seq(\n",
    "    vocab_size, emb_size, encoder_args, decoder_args)\n",
    "\n",
    "gpu_option = 0.25\n",
    "gpu_options = tf.GPUOptions(per_process_gpu_memory_fraction=gpu_option)"
   ]
  },
  {
   "cell_type": "code",
   "execution_count": 5,
   "metadata": {
    "collapsed": true
   },
   "outputs": [],
   "source": [
    "def inference(query):\n",
    "    try:\n",
    "        assert isinstance(query, str)\n",
    "        query = encode(query)\n",
    "    except:\n",
    "        assert isinstance(query, list)\n",
    "        assert isinstance(query[0], int)\n",
    "    query_batch, query_batch_len = time_major_batch([query])\n",
    "    predicted = sess.run(\n",
    "        model.decoder.inference_prediction, \n",
    "        feed_dict={\n",
    "            model.encoder.inputs: query_batch, \n",
    "            model.encoder.inputs_length: query_batch_len}).reshape(-1)\n",
    "    predicted_line = decode(predicted)\n",
    "    return predicted_line"
   ]
  },
  {
   "cell_type": "code",
   "execution_count": 6,
   "metadata": {
    "collapsed": true
   },
   "outputs": [],
   "source": [
    "sess = tf.InteractiveSession(config=tf.ConfigProto(gpu_options=gpu_options))"
   ]
  },
  {
   "cell_type": "code",
   "execution_count": 7,
   "metadata": {
    "collapsed": true
   },
   "outputs": [],
   "source": [
    "saver = tf.train.Saver()"
   ]
  },
  {
   "cell_type": "code",
   "execution_count": 8,
   "metadata": {
    "collapsed": false
   },
   "outputs": [],
   "source": [
    "saver.restore(sess, \"./logs/model\")"
   ]
  },
  {
   "cell_type": "code",
   "execution_count": 9,
   "metadata": {
    "collapsed": false
   },
   "outputs": [
    {
     "name": "stdout",
     "output_type": "stream",
     "text": [
      "Which are the best online courses to learn Python when I already have programming knowledge of C, C++ and Java? \n",
      "Which cool is the best to learn C#+ program to learn about Pything?  \n",
      "What is the best online resources to learn Python? \n",
      "--------------------------------------------------------------------------------\n",
      "Why is New Year s Day on January 1st? \n",
      "Why do you need a \"The Test of the new Jam\n",
      "Why do we celebrate January 1st as the new year? \n",
      "--------------------------------------------------------------------------------\n",
      "Who will 2017 up elections? \n",
      "Who will win the 2016 US preside\n",
      "Who can win in 2017 UP elections? \n",
      "--------------------------------------------------------------------------------\n",
      "What next after India's surgical strike? \n",
      "What will I be able to study and string in st\n",
      "What will be the consequences of India's surgical strike? \n",
      "--------------------------------------------------------------------------------\n",
      "Which is the best book on English grammar? \n",
      "What are some of the best books on English Bran\n",
      "What is best book for English grammar? \n",
      "--------------------------------------------------------------------------------\n",
      "If there was one movie that you would suggest to a friend, which one would it be and why? \n",
      "If you could go back in time and why do we need to his time on the moon?  \n",
      "What is that one movie you will recommend someone if someone asks you to do so spontaneously? \n",
      "--------------------------------------------------------------------------------\n",
      "Which is the best free email service? \n",
      "What are some of the best fear exams for m\n",
      "What are some of the best free email services? \n",
      "--------------------------------------------------------------------------------\n",
      "Which are the top places to visit in Kerala? \n",
      "What are the best places to visit in Kerala in a \n",
      "What are some good beaches to visit in Kerala? \n",
      "--------------------------------------------------------------------------------\n",
      "Since Carrie Fisher has passed away, what will they do about Star Wars Episode IX? \n",
      "What would happen if your dreams seeming with the cash in the history of Saran pasthon?\n",
      "What will Carrie Fisher's death mean for the next Star Wars movies? \n",
      "--------------------------------------------------------------------------------\n",
      "How many articles do we actually count in the Indian constitution? \n",
      "How many attends are there and consequences of Israel count country?  \n",
      "How many articles does the Constitution have? \n",
      "--------------------------------------------------------------------------------\n"
     ]
    }
   ],
   "source": [
    "for i in np.random.randint(len(val_data), size=10):\n",
    "    query, target = val_data[i]\n",
    "    try:\n",
    "        print(\"\\n\".join((decode(query), inference(query), decode(target))))\n",
    "    except:\n",
    "        print(\"\\n\".join((query, inference(query))))\n",
    "    print(\"-\"*80)"
   ]
  },
  {
   "cell_type": "code",
   "execution_count": 18,
   "metadata": {
    "collapsed": false
   },
   "outputs": [
    {
     "data": {
      "text/plain": [
       "<matplotlib.image.AxesImage at 0x7ff7ee87b940>"
      ]
     },
     "execution_count": 18,
     "metadata": {},
     "output_type": "execute_result"
    },
    {
     "data": {
      "image/png": "[encoded data removed]",
      "text/plain": [
       "<matplotlib.figure.Figure at 0x7ff7ee985da0>"
      ]
     },
     "metadata": {},
     "output_type": "display_data"
    }
   ],
   "source": [
    "from matplotlib.pyplot import imshow, figure\n",
    "import numpy as np\n",
    "from PIL import Image\n",
    "\n",
    "%matplotlib inline\n",
    "pil_im = Image.open(\"./logs/plotter/unreg_loss.png\", 'r')\n",
    "figure(figsize = (16,12))\n",
    "imshow(np.asarray(pil_im), interpolation='nearest', aspect='auto')"
   ]
  },
  {
   "cell_type": "code",
   "execution_count": null,
   "metadata": {
    "collapsed": true
   },
   "outputs": [],
   "source": []
  }
 ],
 "metadata": {
  "kernelspec": {
   "display_name": "Python 3",
   "language": "python",
   "name": "python3"
  },
  "language_info": {
   "codemirror_mode": {
    "name": "ipython",
    "version": 3
   },
   "file_extension": ".py",
   "mimetype": "text/x-python",
   "name": "python",
   "nbconvert_exporter": "python",
   "pygments_lexer": "ipython3",
   "version": "3.5.2"
  }
 },
 "nbformat": 4,
 "nbformat_minor": 2
}
